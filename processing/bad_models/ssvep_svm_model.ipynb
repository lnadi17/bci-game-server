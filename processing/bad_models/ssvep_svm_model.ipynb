{
 "cells": [
  {
   "cell_type": "code",
   "id": "initial_id",
   "metadata": {
    "collapsed": true,
    "ExecuteTime": {
     "end_time": "2025-04-26T08:19:59.004433Z",
     "start_time": "2025-04-26T08:19:58.999318Z"
    }
   },
   "source": [
    "import numpy as np\n",
    "\n",
    "from preprocessing import BCIDataProcessor"
   ],
   "outputs": [],
   "execution_count": 16
  },
  {
   "metadata": {
    "ExecuteTime": {
     "end_time": "2025-04-26T08:20:01.851222Z",
     "start_time": "2025-04-26T08:19:59.008761Z"
    }
   },
   "cell_type": "code",
   "source": [
    "recording_path = '../recordings/recording_ssvep4_gel.raw.fif'\n",
    "window_size = 2\n",
    "window_overlap = 1\n",
    "nfft1 = 500\n",
    "nfft2 = 500\n",
    "processor = BCIDataProcessor(recording_path, l_freq=7, h_freq=30, window_size=window_size,\n",
    "                             window_overlap=window_overlap)\n",
    "processor1 = BCIDataProcessor(recording_path, l_freq=10, h_freq=12, window_size=window_size,\n",
    "                              window_overlap=window_overlap)\n",
    "processor2 = BCIDataProcessor(recording_path, l_freq=14, h_freq=16, window_size=window_size,\n",
    "                              window_overlap=window_overlap)\n",
    "processor3 = BCIDataProcessor(recording_path, l_freq=18, h_freq=20, window_size=window_size,\n",
    "                              window_overlap=window_overlap)\n",
    "processor4 = BCIDataProcessor(recording_path, l_freq=22, h_freq=24, window_size=window_size,\n",
    "                              window_overlap=window_overlap)\n",
    "processor5 = BCIDataProcessor(recording_path, l_freq=19, h_freq=21, window_size=window_size,\n",
    "                              window_overlap=window_overlap)\n",
    "data_arrays = processor.process(psds=True, nfft=nfft1, channels=(5, 6, 7))\n",
    "data_arrays1 = processor1.process(psds=True, nfft=nfft2, channels=(5, 6, 7))\n",
    "data_arrays2 = processor2.process(psds=True, nfft=nfft2, channels=(5, 6, 7))\n",
    "data_arrays3 = processor3.process(psds=True, nfft=nfft2, channels=(5, 6, 7))\n",
    "data_arrays4 = processor4.process(psds=True, nfft=nfft2, channels=(5, 6, 7))\n",
    "data_arrays5 = processor5.process(psds=True, nfft=nfft2, channels=(5, 6, 7))\n",
    "arr_all = [\n",
    "    #data_arrays,\n",
    "    data_arrays1,\n",
    "    data_arrays2,\n",
    "    data_arrays3,\n",
    "    data_arrays4,\n",
    "    data_arrays5\n",
    "]"
   ],
   "id": "c0959a74b17a28e7",
   "outputs": [],
   "execution_count": 17
  },
  {
   "metadata": {
    "ExecuteTime": {
     "end_time": "2025-04-26T08:20:01.875589Z",
     "start_time": "2025-04-26T08:20:01.872222Z"
    }
   },
   "cell_type": "code",
   "source": [
    "# Merge data arrays along feature axis\n",
    "feature_arrays = {}\n",
    "for label in data_arrays.keys():\n",
    "    feature_arrays[label] = np.concatenate([arr[label] for arr in arr_all], axis=2)\n",
    "feature_arrays['15.0'].shape  # (samples, channels, features)"
   ],
   "id": "745713db9fd0f61",
   "outputs": [
    {
     "data": {
      "text/plain": [
       "(45, 3, 25)"
      ]
     },
     "execution_count": 18,
     "metadata": {},
     "output_type": "execute_result"
    }
   ],
   "execution_count": 18
  },
  {
   "metadata": {
    "ExecuteTime": {
     "end_time": "2025-04-26T08:20:01.919425Z",
     "start_time": "2025-04-26T08:20:01.916385Z"
    }
   },
   "cell_type": "code",
   "source": [
    "# Create X and y based on the labels\n",
    "X = np.concatenate(list(feature_arrays.values()), axis=0)  # (samples, channels, features)\n",
    "y = np.concatenate([[label] * feature_arrays[label].shape[0] for label in feature_arrays.keys()])  # (samples,)\n",
    "# Reshape X to 2D (samples, features)\n",
    "X = X.reshape(X.shape[0], -1)  # (samples, channels * features)\n",
    "# Check the shape of X and y\n",
    "print(\"X shape:\", X.shape)  # (samples, channels * features)"
   ],
   "id": "fdd6c3042fa557c0",
   "outputs": [
    {
     "name": "stdout",
     "output_type": "stream",
     "text": [
      "X shape: (180, 75)\n"
     ]
    }
   ],
   "execution_count": 19
  },
  {
   "metadata": {
    "ExecuteTime": {
     "end_time": "2025-04-26T08:20:02.158730Z",
     "start_time": "2025-04-26T08:20:01.950892Z"
    }
   },
   "cell_type": "code",
   "source": [
    "from sklearn.svm import SVC\n",
    "from sklearn.pipeline import Pipeline\n",
    "from sklearn.preprocessing import StandardScaler\n",
    "from sklearn.model_selection import StratifiedKFold, GridSearchCV, cross_val_predict, cross_val_score, train_test_split\n",
    "from sklearn.metrics import classification_report, confusion_matrix, ConfusionMatrixDisplay\n",
    "import matplotlib.pyplot as plt\n",
    "import numpy as np\n",
    "\n",
    "# Assume X and y are already defined\n",
    "# Holdout split\n",
    "X_train_val, X_test, y_train_val, y_test = train_test_split(X, y, test_size=0.2, stratify=y, random_state=42)\n",
    "\n",
    "# It's essential to scale features for SVM\n",
    "pipeline = Pipeline([\n",
    "    ('scaler', StandardScaler()),\n",
    "    ('svc', SVC())\n",
    "])\n",
    "\n",
    "# Hyperparameter grid (slightly enhanced)\n",
    "param_grid = {\n",
    "    'svc__C': [0.01, 0.1, 1, 10],  # added C=10 for slightly stronger regularization control\n",
    "    'svc__kernel': ['linear'],\n",
    "    'svc__gamma': ['scale']\n",
    "}\n",
    "\n",
    "# Outer cross-validation strategy\n",
    "outer_cv = StratifiedKFold(n_splits=5, shuffle=True, random_state=42)\n",
    "\n",
    "# Inner cross-validation strategy for hyperparameter tuning\n",
    "inner_cv = StratifiedKFold(n_splits=3, shuffle=True, random_state=42)\n",
    "\n",
    "# Grid search with refit=True (default)\n",
    "grid_search = GridSearchCV(pipeline, param_grid, cv=inner_cv, scoring='accuracy', n_jobs=-1, refit=True)\n",
    "\n",
    "# Perform nested cross-validation on training+validation set\n",
    "nested_scores = cross_val_score(grid_search, X_train_val, y_train_val, cv=outer_cv, scoring='accuracy', n_jobs=-1)\n",
    "\n",
    "print(\"Nested CV Accuracy Scores:\", nested_scores)\n",
    "print(\"Mean Nested CV Accuracy:\", np.mean(nested_scores))\n",
    "\n",
    "# Fit GridSearchCV on full training+validation set\n",
    "grid_search.fit(X_train_val, y_train_val)\n",
    "best_model = grid_search.best_estimator_\n",
    "print(\"\\nBest Parameters After Full Training:\", grid_search.best_params_)\n",
    "\n",
    "# Cross-validated predictions on training+validation set\n",
    "y_train_val_pred = cross_val_predict(best_model, X_train_val, y_train_val, cv=outer_cv)\n",
    "\n",
    "# Confusion matrix for cross-validated predictions (not normalized)\n",
    "cm_cv = confusion_matrix(y_train_val, y_train_val_pred)\n",
    "class_labels = np.unique(y)\n",
    "\n",
    "# Evaluate on holdout test set\n",
    "y_test_pred = best_model.predict(X_test)\n",
    "\n",
    "print(\"\\nClassification Report on Holdout Test Set:\\n\", classification_report(y_test, y_test_pred))\n",
    "\n",
    "# Confusion matrix for holdout test set (not normalized)\n",
    "cm_test = confusion_matrix(y_test, y_test_pred)\n",
    "\n",
    "# Plot confusion matrices side-by-side\n",
    "fig, axes = plt.subplots(1, 2, figsize=(12, 5))\n",
    "\n",
    "# Cross-validated confusion matrix\n",
    "disp_cv = ConfusionMatrixDisplay(confusion_matrix=cm_cv, display_labels=class_labels)\n",
    "disp_cv.plot(cmap=plt.cm.Blues, ax=axes[0], colorbar=False)\n",
    "axes[0].set_title(\"Cross-Validated Predictions\")\n",
    "\n",
    "# Holdout test confusion matrix\n",
    "disp_test = ConfusionMatrixDisplay(confusion_matrix=cm_test, display_labels=class_labels)\n",
    "disp_test.plot(cmap=plt.cm.Blues, ax=axes[1], colorbar=False)\n",
    "axes[1].set_title(\"Holdout Test Set\")\n",
    "\n",
    "plt.tight_layout()\n",
    "plt.show()"
   ],
   "id": "17421fa1d8d9279",
   "outputs": [
    {
     "name": "stdout",
     "output_type": "stream",
     "text": [
      "Nested CV Accuracy Scores: [0.5862069  0.79310345 0.62068966 0.55172414 0.53571429]\n",
      "Mean Nested CV Accuracy: 0.617487684729064\n",
      "\n",
      "Best Parameters After Full Training: {'svc__C': 0.01, 'svc__gamma': 'scale', 'svc__kernel': 'linear'}\n",
      "\n",
      "Classification Report on Holdout Test Set:\n",
      "               precision    recall  f1-score   support\n",
      "\n",
      "        11.0       0.67      0.89      0.76         9\n",
      "        15.0       0.67      0.67      0.67         9\n",
      "        19.0       0.71      0.56      0.62         9\n",
      "        23.0       0.50      0.44      0.47         9\n",
      "\n",
      "    accuracy                           0.64        36\n",
      "   macro avg       0.64      0.64      0.63        36\n",
      "weighted avg       0.64      0.64      0.63        36\n",
      "\n"
     ]
    },
    {
     "data": {
      "text/plain": [
       "<Figure size 1200x500 with 2 Axes>"
      ],
      "image/png": "[encoded data removed]"
     },
     "metadata": {},
     "output_type": "display_data"
    }
   ],
   "execution_count": 20
  },
  {
   "metadata": {
    "ExecuteTime": {
     "end_time": "2025-04-26T08:20:02.229746Z",
     "start_time": "2025-04-26T08:20:02.225177Z"
    }
   },
   "cell_type": "code",
   "source": [
    "import joblib\n",
    "joblib.dump(best_model, 'final_svm_model.pkl')\n",
    "print(\"\\nModel saved to 'final_svm_model.pkl'\")"
   ],
   "id": "6dba01205285a31",
   "outputs": [
    {
     "name": "stdout",
     "output_type": "stream",
     "text": [
      "\n",
      "Model saved to 'final_svm_model.pkl'\n"
     ]
    }
   ],
   "execution_count": 21
  },
  {
   "metadata": {
    "ExecuteTime": {
     "end_time": "2025-04-26T08:20:02.319062Z",
     "start_time": "2025-04-26T08:20:02.314588Z"
    }
   },
   "cell_type": "code",
   "source": [
    "import joblib\n",
    "\n",
    "loaded_model = joblib.load('final_svm_model.pkl')\n",
    "\n",
    "# Predict on full dataset\n",
    "y_pred_full = loaded_model.predict(X[0:10, :])\n",
    "y_pred_full"
   ],
   "id": "ba28e197b074de79",
   "outputs": [
    {
     "data": {
      "text/plain": [
       "array(['19.0', '15.0', '15.0', '15.0', '15.0', '15.0', '23.0', '15.0',\n",
       "       '15.0', '15.0'], dtype='<U4')"
      ]
     },
     "execution_count": 22,
     "metadata": {},
     "output_type": "execute_result"
    }
   ],
   "execution_count": 22
  }
 ],
 "metadata": {
  "kernelspec": {
   "display_name": "Python 3",
   "language": "python",
   "name": "python3"
  },
  "language_info": {
   "codemirror_mode": {
    "name": "ipython",
    "version": 2
   },
   "file_extension": ".py",
   "mimetype": "text/x-python",
   "name": "python",
   "nbconvert_exporter": "python",
   "pygments_lexer": "ipython2",
   "version": "2.7.6"
  }
 },
 "nbformat": 4,
 "nbformat_minor": 5
}
