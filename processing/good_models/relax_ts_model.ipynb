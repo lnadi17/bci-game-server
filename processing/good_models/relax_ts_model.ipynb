{
 "cells": [
  {
   "cell_type": "code",
   "id": "initial_id",
   "metadata": {
    "collapsed": true,
    "ExecuteTime": {
     "end_time": "2025-05-01T21:35:13.586292Z",
     "start_time": "2025-05-01T21:35:12.650234Z"
    }
   },
   "source": [
    "import matplotlib.pyplot as plt\n",
    "import numpy as np\n",
    "from mne.decoding import CSP\n",
    "from sklearn.model_selection import train_test_split\n",
    "from pyriemann.estimation import Covariances\n",
    "from pyriemann.classification import MDM\n",
    "from pyriemann.tangentspace import TangentSpace\n",
    "\n",
    "from processing.preprocessing import BCIDataProcessor\n",
    "\n",
    "recording_path_1 = '../recordings/recording_relax2.raw.fif'\n",
    "recording_path_2 = '../recordings/recording_relax3.raw.fif'\n",
    "rescale = True\n",
    "window_size = 2\n",
    "window_overlap = 0.33\n",
    "filter_method = 'iir'\n",
    "l_freq, h_freq = 10, 20\n",
    "\n",
    "processor = BCIDataProcessor(recording_path_1, l_freq=l_freq, h_freq=h_freq, window_size=window_size,\n",
    "                             window_overlap=window_overlap, rescale=rescale, filter_method=filter_method)\n",
    "data = processor.process()\n",
    "# Only select relax and focus\n",
    "data = {label: data[label] for label in data.keys() if label in ['relax', 'focus']}\n",
    "data"
   ],
   "outputs": [
    {
     "data": {
      "text/plain": [
       "{'relax': array([[[-2.75859755e-09,  6.58822355e-06,  1.19196667e-05, ...,\n",
       "          -6.53445754e-06, -8.10259155e-06, -8.84459835e-06],\n",
       "         [-1.05771001e-09, -3.81782756e-07, -7.76688674e-07, ...,\n",
       "          -3.01867316e-06, -5.39087651e-06, -7.42446293e-06],\n",
       "         [-2.85816626e-09,  1.36934219e-08,  4.52812403e-08, ...,\n",
       "          -4.97722714e-06, -7.74024405e-06, -9.75942371e-06],\n",
       "         ...,\n",
       "         [-7.39293400e-10,  2.76738098e-06,  4.86841659e-06, ...,\n",
       "          -1.33488083e-06, -2.17059583e-06, -2.78339685e-06],\n",
       "         [-1.39442420e-09, -8.90089752e-08, -1.86083199e-07, ...,\n",
       "          -3.46851677e-07, -1.29134428e-06, -2.16159753e-06],\n",
       "         [-1.26045405e-09, -2.42412880e-06, -4.40465518e-06, ...,\n",
       "           1.96653584e-06,  7.46746826e-07, -6.00096828e-07]],\n",
       " \n",
       "        [[ 7.22537962e-06,  2.62723408e-06, -2.09849110e-06, ...,\n",
       "           4.23855923e-06,  6.00172331e-06,  6.82361705e-06],\n",
       "         [ 3.71442434e-06,  1.47105855e-06, -6.63788315e-07, ...,\n",
       "          -5.60678040e-07, -7.51310837e-07, -8.34433344e-07],\n",
       "         [ 4.11386251e-06,  1.22431630e-06, -1.55768702e-06, ...,\n",
       "           2.68390538e-06,  3.91443868e-06,  4.49199459e-06],\n",
       "         ...,\n",
       "         [ 6.33107297e-06,  2.77323577e-06, -7.70729290e-07, ...,\n",
       "          -7.10697519e-07, -1.70337622e-06, -2.72911307e-06],\n",
       "         [ 4.12540283e-06,  2.34909594e-06,  4.90022698e-07, ...,\n",
       "           1.07335571e-06,  4.34532172e-07, -6.32628131e-07],\n",
       "         [ 3.63238802e-06,  2.63699960e-06,  1.45970569e-06, ...,\n",
       "          -1.39664576e-06, -1.48473461e-06, -1.57836303e-06]],\n",
       " \n",
       "        [[-6.86098146e-06, -6.59894302e-06, -5.75141144e-06, ...,\n",
       "          -2.55103869e-06, -1.74494565e-06, -8.98355891e-07],\n",
       "         [-7.18394779e-06, -7.77636143e-06, -7.49956493e-06, ...,\n",
       "          -3.40097702e-06, -3.30172738e-06, -2.78805806e-06],\n",
       "         [-4.90421968e-06, -4.56842536e-06, -3.77951285e-06, ...,\n",
       "          -5.34780422e-06, -4.59105003e-06, -3.21166340e-06],\n",
       "         ...,\n",
       "         [-4.47294143e-06, -4.24718204e-06, -3.63109411e-06, ...,\n",
       "          -2.62685436e-06, -2.17834226e-06, -1.51114540e-06],\n",
       "         [-2.60582728e-06, -1.74860875e-06, -7.62365858e-07, ...,\n",
       "           5.44425194e-07, -1.47353921e-07, -6.80147961e-07],\n",
       "         [-1.33066380e-06, -7.10433797e-07, -5.56797197e-08, ...,\n",
       "           1.61755774e-06,  2.28775340e-07, -8.71196650e-07]],\n",
       " \n",
       "        ...,\n",
       " \n",
       "        [[ 6.61450069e-09, -5.85905807e-06, -1.10468680e-05, ...,\n",
       "           2.34321827e-06,  4.10209903e-06,  5.56748592e-06],\n",
       "         [ 3.27519048e-09, -3.87337107e-06, -7.43060231e-06, ...,\n",
       "           2.33221821e-06,  3.19397164e-06,  3.94554063e-06],\n",
       "         [ 1.48569994e-09, -2.38091927e-06, -4.58481919e-06, ...,\n",
       "          -6.54893032e-07,  4.86705687e-07,  1.81998155e-06],\n",
       "         ...,\n",
       "         [ 5.48921988e-09, -3.86823797e-06, -7.33343402e-06, ...,\n",
       "           3.99438850e-06,  3.91385736e-06,  3.49325988e-06],\n",
       "         [ 1.93418795e-09,  1.37087428e-06,  2.56347299e-06, ...,\n",
       "          -1.83547439e-06, -2.17823675e-06, -2.24901139e-06],\n",
       "         [-4.89981109e-10,  4.21890137e-06,  7.93715127e-06, ...,\n",
       "          -3.01338764e-06, -3.73778757e-06, -4.13231184e-06]],\n",
       " \n",
       "        [[ 4.31618152e-06,  4.06652831e-06,  2.82470256e-06, ...,\n",
       "           2.11611392e-06,  3.62443121e-06,  4.75496057e-06],\n",
       "         [ 3.70441347e-06,  2.76681719e-06,  1.08257154e-06, ...,\n",
       "           6.69647078e-06,  6.17460841e-06,  5.13276652e-06],\n",
       "         [ 2.58163134e-06,  1.87930861e-06,  7.24723883e-07, ...,\n",
       "           2.20996774e-06,  3.01035034e-06,  3.46472223e-06],\n",
       "         ...,\n",
       "         [ 4.16717549e-06,  3.67548651e-06,  2.17038371e-06, ...,\n",
       "           1.55140730e-05,  1.63177263e-05,  1.55917255e-05],\n",
       "         [ 1.81170034e-06,  9.77554317e-07, -2.34313441e-07, ...,\n",
       "           9.93419083e-06,  1.11826763e-05,  1.13218496e-05],\n",
       "         [ 8.30979081e-07,  7.13598992e-07,  5.30109705e-07, ...,\n",
       "           1.08383987e-05,  1.23309312e-05,  1.24114673e-05]],\n",
       " \n",
       "        [[-6.99093663e-06, -3.95972725e-06, -7.68008866e-07, ...,\n",
       "           5.78272889e-07, -4.61147024e-07, -1.19795850e-06],\n",
       "         [ 2.84388012e-07,  7.44137367e-07,  8.99723301e-07, ...,\n",
       "          -1.46969790e-06, -3.06562085e-06, -4.25438179e-06],\n",
       "         [ 6.15131671e-07,  9.96472540e-07,  1.28486490e-06, ...,\n",
       "           3.12176795e-06,  2.76189718e-06,  2.26986303e-06],\n",
       "         ...,\n",
       "         [ 2.89295531e-07,  1.58205157e-06,  2.23445596e-06, ...,\n",
       "          -2.61741883e-07, -4.06024416e-06, -7.15920259e-06],\n",
       "         [ 5.06877281e-06,  5.31183368e-06,  4.68047591e-06, ...,\n",
       "           4.16637642e-06,  1.51552178e-06, -1.08908289e-06],\n",
       "         [ 2.80558191e-06,  1.65964480e-06,  1.31159398e-07, ...,\n",
       "           5.21890838e-06,  4.66409020e-06,  3.84305306e-06]]],\n",
       "       shape=(24, 8, 500)),\n",
       " 'focus': array([[[-9.94239247e-10,  1.19317604e-05,  2.20916013e-05, ...,\n",
       "           1.72676667e-05,  1.63481278e-05,  1.29094504e-05],\n",
       "         [-2.02756672e-10,  5.85080102e-06,  1.08692857e-05, ...,\n",
       "           6.84841735e-06,  6.41038395e-06,  4.92665980e-06],\n",
       "         [-6.73465025e-10,  2.94474068e-06,  5.49065606e-06, ...,\n",
       "           6.80190742e-06,  6.59430322e-06,  5.49981243e-06],\n",
       "         ...,\n",
       "         [-1.67903498e-10,  1.06139807e-05,  1.96620999e-05, ...,\n",
       "           1.07929459e-05,  9.02336404e-06,  5.72171489e-06],\n",
       "         [-2.70249655e-10,  4.48269592e-06,  8.40383848e-06, ...,\n",
       "           4.80317759e-06,  4.85293348e-06,  4.20979010e-06],\n",
       "         [-4.18207876e-10,  3.50774430e-06,  6.59220275e-06, ...,\n",
       "           1.29393190e-06,  2.61116806e-06,  3.56125249e-06]],\n",
       " \n",
       "        [[ 5.27225427e-06,  4.20492104e-06,  2.75225287e-06, ...,\n",
       "           1.88820456e-06,  4.23250663e-07, -6.95264570e-07],\n",
       "         [ 1.88247299e-06,  1.38845957e-06,  8.41704162e-07, ...,\n",
       "           2.22259789e-07, -1.74183021e-07, -2.84584312e-07],\n",
       "         [ 2.01471842e-06,  1.78604910e-06,  1.42266901e-06, ...,\n",
       "           5.27118005e-07,  4.25814657e-07,  3.60821885e-07],\n",
       "         ...,\n",
       "         [ 3.78745165e-06,  2.49193034e-06,  1.25150304e-06, ...,\n",
       "           1.98480876e-07,  5.21928410e-07,  1.26106559e-06],\n",
       "         [ 9.01404215e-07,  1.21431715e-06,  1.64577830e-06, ...,\n",
       "           7.41101728e-07,  1.69511448e-06,  2.62988058e-06],\n",
       "         [ 1.41045171e-06,  1.75320226e-06,  2.02843597e-06, ...,\n",
       "          -6.84844046e-07, -2.07177830e-09,  7.28526474e-07]],\n",
       " \n",
       "        [[-1.73017748e-05, -1.67483426e-05, -1.41738508e-05, ...,\n",
       "          -4.97434827e-06, -5.76388755e-06, -5.40103803e-06],\n",
       "         [-1.15519689e-05, -1.02155546e-05, -7.59303739e-06, ...,\n",
       "           7.05761068e-07,  7.49686665e-07,  1.03573278e-06],\n",
       "         [-6.82649112e-06, -5.82765224e-06, -4.02028929e-06, ...,\n",
       "          -2.14683795e-06, -1.10977976e-06,  5.04878619e-07],\n",
       "         ...,\n",
       "         [-1.57339129e-05, -1.48085961e-05, -1.21880416e-05, ...,\n",
       "          -2.18125562e-06, -4.15000619e-06, -5.50654573e-06],\n",
       "         [-6.05157164e-06, -5.50835141e-06, -4.33410147e-06, ...,\n",
       "          -4.20827868e-06, -4.48713744e-06, -4.03915467e-06],\n",
       "         [-3.91217648e-06, -2.95140951e-06, -1.57940327e-06, ...,\n",
       "          -3.11569995e-06, -3.02856692e-06, -2.38849197e-06]],\n",
       " \n",
       "        ...,\n",
       " \n",
       "        [[-3.23069859e-09,  2.98528345e-06,  5.66613880e-06, ...,\n",
       "           1.78560239e-05,  1.47599886e-05,  1.01350271e-05],\n",
       "         [-1.70351335e-09,  1.21164198e-06,  2.29950542e-06, ...,\n",
       "           3.21777959e-06,  3.82943576e-06,  4.12046165e-06],\n",
       "         [-2.16397905e-09,  1.20636610e-06,  2.15219964e-06, ...,\n",
       "           4.28260047e-06,  3.76189877e-06,  2.82134709e-06],\n",
       "         ...,\n",
       "         [-3.93969626e-09,  1.04719166e-07,  2.12396208e-07, ...,\n",
       "           3.32843067e-06,  3.10381518e-06,  2.77070553e-06],\n",
       "         [-3.18687496e-09, -2.36434193e-07, -6.06605921e-07, ...,\n",
       "           1.58317996e-06,  6.59368547e-07, -1.74490587e-07],\n",
       "         [-1.68945321e-09, -1.66222215e-06, -3.36077908e-06, ...,\n",
       "          -1.21137404e-06, -2.23334927e-06, -2.92915941e-06]],\n",
       " \n",
       "        [[-1.00306891e-05, -9.94692159e-06, -7.92007846e-06, ...,\n",
       "           1.04625361e-05,  4.07743691e-06, -2.40161523e-06],\n",
       "         [-1.64334893e-06, -1.79606841e-06, -1.45792762e-06, ...,\n",
       "           6.98342714e-06,  1.92997445e-06, -3.19681160e-06],\n",
       "         [-4.86394193e-07, -3.31791985e-07,  5.26699455e-08, ...,\n",
       "           1.29703564e-06, -1.63225966e-06, -4.07703485e-06],\n",
       "         ...,\n",
       "         [-4.27968081e-06, -5.18099249e-06, -5.05327823e-06, ...,\n",
       "           1.49163070e-05,  8.96717091e-06,  2.11629738e-06],\n",
       "         [ 5.43115186e-07, -3.47018999e-07, -1.24830270e-06, ...,\n",
       "           4.74489201e-06,  2.80919112e-06,  5.30272545e-07],\n",
       "         [ 1.05713524e-06,  8.47697437e-07,  3.62478962e-07, ...,\n",
       "          -2.48432101e-06, -2.08606137e-06, -1.53008515e-06]],\n",
       " \n",
       "        [[ 8.86535492e-06,  8.00580104e-06,  5.90498376e-06, ...,\n",
       "          -6.95247568e-06, -6.73847187e-06, -6.37619749e-06],\n",
       "         [ 3.88288882e-06,  4.36449273e-06,  4.18574683e-06, ...,\n",
       "          -4.21960279e-06, -4.37964014e-06, -4.37268578e-06],\n",
       "         [ 3.92305416e-06,  5.11273727e-06,  5.50604428e-06, ...,\n",
       "           1.43391360e-06,  1.58861657e-06,  1.49347351e-06],\n",
       "         ...,\n",
       "         [-2.16108822e-06, -1.29897512e-06, -4.78038320e-07, ...,\n",
       "          -9.63212643e-06, -9.50924575e-06, -8.76956549e-06],\n",
       "         [-3.12680596e-06, -1.36535586e-06,  4.55981081e-07, ...,\n",
       "          -2.20009283e-06, -1.81766581e-06, -1.23494862e-06],\n",
       "         [-3.12739108e-06, -3.04248186e-06, -2.69907777e-06, ...,\n",
       "          -1.77304317e-06, -1.57329014e-06, -1.18780377e-06]]],\n",
       "       shape=(24, 8, 500))}"
      ]
     },
     "execution_count": 103,
     "metadata": {},
     "output_type": "execute_result"
    }
   ],
   "execution_count": 103
  },
  {
   "metadata": {
    "ExecuteTime": {
     "end_time": "2025-05-01T21:35:13.655202Z",
     "start_time": "2025-05-01T21:35:13.646370Z"
    }
   },
   "cell_type": "code",
   "source": [
    "X = np.concatenate(list(data.values()), axis=0)\n",
    "y = np.concatenate([[label] * data[label].shape[0] for label in data.keys()])  # (samples,)\n",
    "X.shape, y.shape"
   ],
   "id": "1158743614b86884",
   "outputs": [
    {
     "data": {
      "text/plain": [
       "((48, 8, 500), (48,))"
      ]
     },
     "execution_count": 104,
     "metadata": {},
     "output_type": "execute_result"
    }
   ],
   "execution_count": 104
  },
  {
   "metadata": {
    "ExecuteTime": {
     "end_time": "2025-05-01T21:35:13.793273Z",
     "start_time": "2025-05-01T21:35:13.701560Z"
    }
   },
   "cell_type": "code",
   "source": [
    "from sklearn.pipeline import Pipeline\n",
    "from pyriemann.classification import TSClassifier\n",
    "\n",
    "clf = Pipeline(steps=[('cov', Covariances(estimator='lwf')), ('ts', TSClassifier(metric='riemann'))])\n",
    "clf.fit(X, y)\n",
    "y_pred = clf.predict(X)\n",
    "print(f\"Training accuracy: {np.mean(y_pred == y)}\")"
   ],
   "id": "c0c55b2342994b7d",
   "outputs": [
    {
     "name": "stdout",
     "output_type": "stream",
     "text": [
      "Training accuracy: 0.9583333333333334\n"
     ]
    }
   ],
   "execution_count": 105
  },
  {
   "metadata": {
    "ExecuteTime": {
     "end_time": "2025-05-01T21:35:14.226330Z",
     "start_time": "2025-05-01T21:35:13.877600Z"
    }
   },
   "cell_type": "code",
   "source": [
    "# Load the second recording and validate on that\n",
    "processor = BCIDataProcessor(recording_path_2, l_freq=l_freq, h_freq=h_freq, window_size=window_size,\n",
    "                             window_overlap=window_overlap, rescale=rescale, filter_method=filter_method)\n",
    "data = processor.process()\n",
    "# Only select relax/focus\n",
    "data = {label: data[label] for label in data.keys() if label in ['relax', 'focus']}\n",
    "data"
   ],
   "id": "90f1e49f5897edfa",
   "outputs": [
    {
     "data": {
      "text/plain": [
       "{'relax': array([[[-3.00207443e-10, -5.70210178e-06, -1.04791017e-05, ...,\n",
       "           3.16270924e-06,  4.85458244e-06,  5.92251916e-06],\n",
       "         [-6.52361091e-10, -9.84172183e-07, -1.86712781e-06, ...,\n",
       "           5.21267974e-07,  2.39414498e-06,  3.87174178e-06],\n",
       "         [-5.82325307e-10, -5.92767071e-07, -1.12299648e-06, ...,\n",
       "           1.22569326e-06,  2.54620045e-06,  3.48927456e-06],\n",
       "         ...,\n",
       "         [-1.76256307e-09, -1.48573862e-06, -2.56163630e-06, ...,\n",
       "           7.20887029e-06,  7.73060739e-06,  7.40922253e-06],\n",
       "         [-1.15709216e-09, -1.13228087e-06, -2.04163925e-06, ...,\n",
       "           1.30009994e-06,  2.24901922e-06,  2.90034921e-06],\n",
       "         [-9.69460846e-11, -2.25287716e-06, -4.18742334e-06, ...,\n",
       "           4.55470623e-06,  5.65412801e-06,  6.03537239e-06]],\n",
       " \n",
       "        [[ 8.17646552e-06,  8.00788527e-06,  6.44657189e-06, ...,\n",
       "           3.08425385e-06,  5.38125508e-06,  7.45286635e-06],\n",
       "         [ 7.61118398e-06,  7.96037903e-06,  7.13830502e-06, ...,\n",
       "          -1.94423087e-07,  7.93269678e-07,  2.10693056e-06],\n",
       "         [ 2.61017238e-06,  1.77878515e-06,  3.52705082e-07, ...,\n",
       "           9.24804746e-07,  2.66012983e-06,  4.24669451e-06],\n",
       "         ...,\n",
       "         [ 1.45018341e-05,  1.54289764e-05,  1.40011857e-05, ...,\n",
       "           2.25942208e-06,  2.81742751e-06,  3.66558657e-06],\n",
       "         [ 6.90155606e-06,  6.61206656e-06,  5.20223396e-06, ...,\n",
       "          -7.62243437e-07, -1.08815880e-06, -1.08215190e-06],\n",
       "         [ 2.30000414e-06,  1.36444307e-06,  8.51010436e-08, ...,\n",
       "          -3.94522564e-06, -2.99305860e-06, -1.61850892e-06]],\n",
       " \n",
       "        [[-6.02668026e-06, -5.25792442e-06, -3.94537036e-06, ...,\n",
       "           6.81565432e-06,  2.74580652e-06, -1.82864966e-06],\n",
       "         [-2.57599363e-06, -2.68237852e-06, -2.40700641e-06, ...,\n",
       "           3.35652977e-06,  1.75867517e-07, -3.22629856e-06],\n",
       "         [-5.19644115e-07, -5.86389969e-07, -5.94918185e-07, ...,\n",
       "           2.33976778e-06, -9.94735583e-07, -4.14986221e-06],\n",
       "         ...,\n",
       "         [-8.99258153e-07, -1.84515929e-06, -2.70459729e-06, ...,\n",
       "          -2.39208721e-06, -3.22538977e-06, -3.97961796e-06],\n",
       "         [ 1.33673290e-06,  7.35218402e-07, -3.06739220e-08, ...,\n",
       "          -1.55821150e-06, -2.46913448e-06, -3.33295061e-06],\n",
       "         [-5.43403227e-07, -9.03988534e-07, -1.19560773e-06, ...,\n",
       "          -5.43212636e-07, -8.39358208e-07, -1.07030062e-06]],\n",
       " \n",
       "        ...,\n",
       " \n",
       "        [[ 3.60177208e-09, -6.71602509e-06, -1.24653792e-05, ...,\n",
       "           7.55067502e-06,  8.33007952e-06,  8.03158417e-06],\n",
       "         [ 4.59274178e-10, -2.49531283e-06, -4.80645810e-06, ...,\n",
       "           5.71450386e-06,  6.96717472e-06,  7.38898930e-06],\n",
       "         [ 1.08122080e-09, -3.00665303e-06, -5.72337949e-06, ...,\n",
       "           2.78322599e-06,  2.44794488e-06,  1.67881719e-06],\n",
       "         ...,\n",
       "         [ 8.14019256e-10, -4.81173069e-06, -9.08882434e-06, ...,\n",
       "           2.49852199e-07,  2.30394032e-06,  3.82096072e-06],\n",
       "         [-3.50625957e-09, -1.15738834e-06, -2.37305001e-06, ...,\n",
       "          -9.21980121e-06, -1.03935276e-05, -1.08660224e-05],\n",
       "         [-4.07932777e-09,  4.20885984e-07,  5.11351781e-07, ...,\n",
       "          -1.88239413e-05, -2.25768413e-05, -2.43807729e-05]],\n",
       " \n",
       "        [[ 1.00167339e-05,  6.25204109e-06,  1.47822061e-06, ...,\n",
       "          -4.90181978e-06, -6.59352172e-06, -7.63363585e-06],\n",
       "         [ 9.17452191e-06,  6.35419442e-06,  2.73154383e-06, ...,\n",
       "          -6.63447630e-06, -9.88833995e-06, -1.19027550e-05],\n",
       "         [ 5.32174219e-06,  2.70096505e-06, -4.02399018e-07, ...,\n",
       "          -4.20147679e-06, -7.19818649e-06, -9.27914003e-06],\n",
       "         ...,\n",
       "         [ 1.16646952e-05,  1.01173313e-05,  7.44362112e-06, ...,\n",
       "          -1.31177924e-05, -1.87178530e-05, -2.23453535e-05],\n",
       "         [ 7.02497209e-06,  5.80927274e-06,  3.93268553e-06, ...,\n",
       "          -1.08697218e-05, -1.53214341e-05, -1.80088453e-05],\n",
       "         [ 4.30790585e-06,  4.53829980e-06,  4.33414250e-06, ...,\n",
       "          -8.52779725e-06, -1.22849369e-05, -1.46070849e-05]],\n",
       " \n",
       "        [[ 1.41452951e-05,  8.19768947e-06,  1.83563186e-06, ...,\n",
       "           6.03570943e-06,  5.94779854e-06,  5.31976762e-06],\n",
       "         [ 5.20555444e-06,  3.52478556e-06,  1.71738041e-06, ...,\n",
       "          -3.21543543e-06, -4.82846187e-06, -5.81482999e-06],\n",
       "         [ 2.42007260e-06,  4.75666536e-07, -1.50546966e-06, ...,\n",
       "          -1.33333764e-06, -1.02709966e-06, -4.25312997e-07],\n",
       "         ...,\n",
       "         [-1.08742129e-06, -2.86734052e-06, -4.11407672e-06, ...,\n",
       "          -4.86974414e-06, -9.68733190e-06, -1.34700198e-05],\n",
       "         [-8.75233627e-06, -1.02315078e-05, -1.08019657e-05, ...,\n",
       "          -4.72468450e-06, -4.43808702e-06, -3.67485414e-06],\n",
       "         [-1.08665077e-05, -1.27237965e-05, -1.36087142e-05, ...,\n",
       "          -5.98478192e-06, -1.73681810e-06,  2.73370756e-06]]],\n",
       "       shape=(24, 8, 500)),\n",
       " 'focus': array([[[ 1.20664175e-09, -3.53102279e-08,  1.91832473e-07, ...,\n",
       "          -3.03147265e-06, -2.55602195e-06, -1.22223766e-06],\n",
       "         [-1.13098914e-09,  1.97596452e-06,  3.88993703e-06, ...,\n",
       "           1.33322911e-06,  3.10762233e-06,  4.71407729e-06],\n",
       "         [-4.06996336e-10, -1.17309559e-07, -1.12336542e-08, ...,\n",
       "          -5.27336755e-06, -5.46990008e-06, -4.71607748e-06],\n",
       "         ...,\n",
       "         [ 1.21171492e-09,  3.29174829e-06,  6.18203939e-06, ...,\n",
       "           4.22912170e-06,  7.49634193e-06,  1.01378123e-05],\n",
       "         [ 1.73665893e-09,  2.00300671e-06,  3.77479439e-06, ...,\n",
       "          -1.95114630e-06, -9.69669296e-07,  3.69350452e-07],\n",
       "         [-2.18784840e-10,  1.37406737e-06,  2.68791499e-06, ...,\n",
       "          -1.07215471e-05, -1.01296389e-05, -7.98600268e-06]],\n",
       " \n",
       "        [[-4.65761709e-06, -2.42698597e-06,  8.04977495e-07, ...,\n",
       "           2.30004293e-06,  3.93002968e-06,  5.41126530e-06],\n",
       "         [-4.99392020e-06, -3.30104552e-06, -8.29247214e-07, ...,\n",
       "           3.48061026e-06,  4.74373846e-06,  5.59221849e-06],\n",
       "         [ 1.02064012e-06,  2.04658465e-06,  2.94663465e-06, ...,\n",
       "           1.91719403e-06,  3.93673886e-06,  5.61142808e-06],\n",
       "         ...,\n",
       "         [-1.01136624e-05, -8.93522350e-06, -6.13624279e-06, ...,\n",
       "           2.38345960e-07, -4.54437495e-07, -7.30179058e-07],\n",
       "         [-4.86049516e-06, -4.17345882e-06, -2.86397214e-06, ...,\n",
       "          -1.88317226e-07, -2.71806777e-06, -4.87164984e-06],\n",
       "         [ 4.11254296e-07,  6.84303501e-07,  8.12796861e-07, ...,\n",
       "           3.35600131e-07, -1.17446150e-06, -2.54009255e-06]],\n",
       " \n",
       "        [[-2.38497991e-06, -7.46261267e-06, -1.15868408e-05, ...,\n",
       "           5.82209003e-06,  1.42979374e-06, -2.56068084e-06],\n",
       "         [-3.29017046e-06, -8.87019120e-06, -1.34110673e-05, ...,\n",
       "           6.02193596e-06,  4.97487542e-06,  3.66725565e-06],\n",
       "         [ 1.47089599e-07, -2.64513657e-06, -5.12015127e-06, ...,\n",
       "           7.33617314e-06,  5.33103877e-06,  2.72718467e-06],\n",
       "         ...,\n",
       "         [-1.28967247e-06, -5.96824050e-06, -1.00418414e-05, ...,\n",
       "          -2.26947250e-06, -3.63144871e-06, -4.02133546e-06],\n",
       "         [ 2.40954899e-06,  1.35437500e-06,  1.15551230e-07, ...,\n",
       "          -3.12227829e-06, -3.03609717e-06, -2.37108826e-06],\n",
       "         [ 2.32836990e-06,  2.87642127e-06,  2.97790214e-06, ...,\n",
       "          -9.16259813e-07, -4.12622832e-07,  2.22167265e-07]],\n",
       " \n",
       "        ...,\n",
       " \n",
       "        [[ 1.96210015e-09,  4.72436732e-07,  1.12648458e-06, ...,\n",
       "          -9.72677554e-07,  9.13383985e-08,  1.10200142e-06],\n",
       "         [ 2.03886863e-09,  1.00248123e-06,  2.08342038e-06, ...,\n",
       "          -4.42365657e-06, -3.15655841e-06, -1.50346052e-06],\n",
       "         [ 2.79964201e-09,  2.54499103e-07,  5.35261811e-07, ...,\n",
       "          -2.67974356e-06, -4.58797082e-07,  1.79319492e-06],\n",
       "         ...,\n",
       "         [ 2.88976018e-09,  1.32930430e-06,  2.76415914e-06, ...,\n",
       "          -1.45489839e-06, -1.01235319e-07,  1.08707081e-06],\n",
       "         [ 3.28857686e-09,  8.44286840e-07,  1.61708166e-06, ...,\n",
       "          -1.42439366e-06, -5.35071814e-08,  1.20057751e-06],\n",
       "         [ 1.58597819e-09,  9.08634829e-08,  1.25181952e-07, ...,\n",
       "          -1.95034218e-06, -6.51682068e-07,  6.95198426e-07]],\n",
       " \n",
       "        [[-6.51781844e-06, -4.21966618e-06, -1.69939298e-06, ...,\n",
       "           1.09548996e-06,  2.82078319e-07, -8.79397774e-07],\n",
       "         [ 2.16520912e-06,  7.38559750e-07, -7.73580327e-07, ...,\n",
       "          -3.56015522e-06, -3.88532332e-06, -3.95131324e-06],\n",
       "         [-2.45101603e-06, -2.49639194e-06, -2.24780145e-06, ...,\n",
       "           2.52922830e-07, -2.22963703e-07, -8.84998941e-07],\n",
       "         ...,\n",
       "         [ 2.83197935e-06,  3.34202983e-06,  3.35514233e-06, ...,\n",
       "          -3.50908918e-06, -2.79796633e-06, -1.99278890e-06],\n",
       "         [ 4.69621039e-06,  3.59452985e-06,  2.10890054e-06, ...,\n",
       "           4.02109279e-07,  1.81627967e-07, -1.88650033e-07],\n",
       "         [ 2.75743105e-06,  3.16525101e-06,  3.17362876e-06, ...,\n",
       "           2.00985346e-06,  1.40856897e-06,  5.96444825e-07]],\n",
       " \n",
       "        [[ 2.90416343e-06,  3.19984279e-06,  2.85491386e-06, ...,\n",
       "          -1.35173972e-05, -1.33874674e-05, -1.14017502e-05],\n",
       "         [ 1.12252059e-06, -4.46315507e-07, -2.11849864e-06, ...,\n",
       "          -2.17376672e-06, -8.91956901e-07,  7.11195068e-07],\n",
       "         [-1.48776432e-06, -1.56024397e-06, -1.69999815e-06, ...,\n",
       "          -3.40702578e-06, -2.62624332e-06, -1.34246392e-06],\n",
       "         ...,\n",
       "         [ 3.27908721e-06,  1.95532178e-06, -4.98228575e-08, ...,\n",
       "          -1.26619312e-05, -1.22483262e-05, -1.02856393e-05],\n",
       "         [ 8.61566360e-07, -1.13139362e-06, -3.30320561e-06, ...,\n",
       "          -7.00222057e-06, -6.22290376e-06, -4.80619893e-06],\n",
       "         [-3.40401850e-07, -1.84208126e-06, -3.38271291e-06, ...,\n",
       "          -7.49486817e-06, -6.32509594e-06, -4.42247310e-06]]],\n",
       "       shape=(24, 8, 500))}"
      ]
     },
     "execution_count": 106,
     "metadata": {},
     "output_type": "execute_result"
    }
   ],
   "execution_count": 106
  },
  {
   "metadata": {
    "ExecuteTime": {
     "end_time": "2025-05-01T21:35:14.297480Z",
     "start_time": "2025-05-01T21:35:14.272860Z"
    }
   },
   "cell_type": "code",
   "source": [
    "# Prepare the data for validation\n",
    "X_val = np.concatenate(list(data.values()), axis=0)\n",
    "y_val = np.concatenate([[label] * data[label].shape[0] for label in data.keys()])  # (samples,)\n",
    "\n",
    "# Evaluate the trained model on the validation data\n",
    "val_score = clf.score(X_val, y_val)\n",
    "print(f\"Validation accuracy: {val_score}\")"
   ],
   "id": "817554add78a11cf",
   "outputs": [
    {
     "name": "stdout",
     "output_type": "stream",
     "text": [
      "Validation accuracy: 0.8541666666666666\n"
     ]
    }
   ],
   "execution_count": 107
  },
  {
   "metadata": {
    "ExecuteTime": {
     "end_time": "2025-05-01T21:35:14.481624Z",
     "start_time": "2025-05-01T21:35:14.351333Z"
    }
   },
   "cell_type": "code",
   "source": [
    "from sklearn.metrics import confusion_matrix, ConfusionMatrixDisplay\n",
    "\n",
    "# Generate predictions for the validation data\n",
    "y_val_pred = clf.predict(X_val)\n",
    "\n",
    "# Compute the confusion matrix\n",
    "conf_matrix = confusion_matrix(y_val, y_val_pred)\n",
    "\n",
    "# Plot the confusion matrix\n",
    "disp = ConfusionMatrixDisplay(confusion_matrix=conf_matrix, display_labels=np.unique(y_val))\n",
    "disp.plot(cmap=plt.cm.Blues)\n",
    "plt.title(\"Confusion Matrix (Validation Set)\")\n",
    "plt.show()"
   ],
   "id": "56d076f8f5734dac",
   "outputs": [
    {
     "data": {
      "text/plain": [
       "<Figure size 640x480 with 2 Axes>"
      ],
      "image/png": "[encoded data removed]"
     },
     "metadata": {},
     "output_type": "display_data"
    }
   ],
   "execution_count": 108
  },
  {
   "metadata": {
    "ExecuteTime": {
     "end_time": "2025-05-01T21:35:15.394387Z",
     "start_time": "2025-05-01T21:35:14.525039Z"
    }
   },
   "cell_type": "code",
   "source": [
    "# Load all the 2-second .npy files from recordings/focus_chunks and recordings/relax_chunks,\n",
    "# filter them using the same filter and validate our model on them\n",
    "import os\n",
    "import mne\n",
    "import numpy as np\n",
    "from sklearn.metrics import accuracy_score\n",
    "\n",
    "# Define paths to focus and relax chunks\n",
    "focus_chunks_path = '../recordings/focus_chunks'\n",
    "relax_chunks_path = '../recordings/relax_chunks'\n",
    "\n",
    "# Load all .npy files\n",
    "focus_chunks = [np.load(os.path.join(focus_chunks_path, f)) for f in os.listdir(focus_chunks_path) if f.endswith('.npy')]\n",
    "relax_chunks = [np.load(os.path.join(relax_chunks_path, f)) for f in os.listdir(relax_chunks_path) if f.endswith('.npy')]\n",
    "\n",
    "X_focus = []\n",
    "X_relax = []\n",
    "for fc in focus_chunks:\n",
    "    # Assume data shape is (n_channels, n_times) = (8, 500)\n",
    "    sfreq = 250  # Set your sampling frequency accordingly\n",
    "    ch_names = ['Fz','C3','Cz','C4','Pz','PO7','Oz','PO8']\n",
    "    info = mne.create_info(ch_names=ch_names, sfreq=sfreq, ch_types=\"eeg\")\n",
    "    raw = mne.io.RawArray(fc, info)\n",
    "\n",
    "    # Bandpass filter (same as BCIDataProcessor)\n",
    "    raw_filtered = raw.copy().filter(l_freq=10, h_freq=20, method='iir').notch_filter(freqs=[50])\n",
    "\n",
    "    # Get the filtered data as numpy array, shape (n_channels, n_times)\n",
    "    filtered_data = raw_filtered.get_data()\n",
    "    X_focus.append(filtered_data)\n",
    "for rc in relax_chunks:\n",
    "    # Assume data shape is (n_channels, n_times) = (8, 500)\n",
    "    sfreq = 250  # Set your sampling frequency accordingly\n",
    "    ch_names = ['Fz','C3','Cz','C4','Pz','PO7','Oz','PO8']\n",
    "    info = mne.create_info(ch_names=ch_names, sfreq=sfreq, ch_types=\"eeg\")\n",
    "    raw = mne.io.RawArray(rc, info).rescale(1e-6)\n",
    "\n",
    "    # Bandpass filter (same as BCIDataProcessor)\n",
    "    raw_filtered = raw.copy().filter(l_freq=10, h_freq=20, method='iir').notch_filter(freqs=[50])\n",
    "\n",
    "    # Get the filtered data as numpy array, shape (n_channels, n_times)\n",
    "    filtered_data = raw_filtered.get_data()\n",
    "    X_relax.append(filtered_data)\n",
    "X_focus = np.array(X_focus)  # Shape (n_samples, n_channels, n_times)\n",
    "X_relax = np.array(X_relax)  # Shape (n_samples, n_channels, n_times)\n",
    "\n",
    "# Combine and label the data\n",
    "X = np.concatenate([X_focus, X_relax], axis=0)\n",
    "y = np.array(['focus'] * len(X_focus) + ['relax'] * len(X_relax))"
   ],
   "id": "b1be11aff1bcf6c6",
   "outputs": [],
   "execution_count": 109
  },
  {
   "metadata": {
    "ExecuteTime": {
     "end_time": "2025-05-01T21:35:15.409281Z",
     "start_time": "2025-05-01T21:35:15.402406Z"
    }
   },
   "cell_type": "code",
   "source": "X.shape, y.shape, y",
   "id": "e5de770233ed11c1",
   "outputs": [
    {
     "data": {
      "text/plain": [
       "((51, 8, 500),\n",
       " (51,),\n",
       " array(['focus', 'focus', 'focus', 'focus', 'focus', 'focus', 'focus',\n",
       "        'focus', 'focus', 'focus', 'focus', 'focus', 'focus', 'focus',\n",
       "        'focus', 'focus', 'focus', 'focus', 'focus', 'focus', 'focus',\n",
       "        'focus', 'focus', 'focus', 'focus', 'focus', 'focus', 'focus',\n",
       "        'focus', 'focus', 'relax', 'relax', 'relax', 'relax', 'relax',\n",
       "        'relax', 'relax', 'relax', 'relax', 'relax', 'relax', 'relax',\n",
       "        'relax', 'relax', 'relax', 'relax', 'relax', 'relax', 'relax',\n",
       "        'relax', 'relax'], dtype='<U5'))"
      ]
     },
     "execution_count": 110,
     "metadata": {},
     "output_type": "execute_result"
    }
   ],
   "execution_count": 110
  },
  {
   "metadata": {
    "ExecuteTime": {
     "end_time": "2025-05-01T21:35:15.475026Z",
     "start_time": "2025-05-01T21:35:15.438Z"
    }
   },
   "cell_type": "code",
   "source": [
    "# Validate the model\n",
    "y_pred = clf.predict(X)\n",
    "val_accuracy = accuracy_score(y, y_pred)\n",
    "print(f\"Validation accuracy on .npy chunks: {val_accuracy}\")"
   ],
   "id": "ba28e53743b3aa6d",
   "outputs": [
    {
     "name": "stdout",
     "output_type": "stream",
     "text": [
      "Validation accuracy on .npy chunks: 0.803921568627451\n"
     ]
    }
   ],
   "execution_count": 111
  },
  {
   "metadata": {
    "ExecuteTime": {
     "end_time": "2025-05-01T21:35:15.586819Z",
     "start_time": "2025-05-01T21:35:15.506799Z"
    }
   },
   "cell_type": "code",
   "source": [
    "conf_matrix = confusion_matrix(y, y_pred)\n",
    "\n",
    "# Plot the confusion matrix\n",
    "disp = ConfusionMatrixDisplay(confusion_matrix=conf_matrix, display_labels=np.unique(y_val_pred))\n",
    "disp.plot(cmap=plt.cm.Blues)\n",
    "plt.title(\"Confusion Matrix (Validation Set)\")\n",
    "plt.show()"
   ],
   "id": "6d9e914750e108a6",
   "outputs": [
    {
     "data": {
      "text/plain": [
       "<Figure size 640x480 with 2 Axes>"
      ],
      "image/png": "[encoded data removed]"
     },
     "metadata": {},
     "output_type": "display_data"
    }
   ],
   "execution_count": 112
  },
  {
   "metadata": {
    "ExecuteTime": {
     "end_time": "2025-05-01T21:35:15.623193Z",
     "start_time": "2025-05-01T21:35:15.620484Z"
    }
   },
   "cell_type": "code",
   "source": "",
   "id": "d14015f6b16cf842",
   "outputs": [],
   "execution_count": null
  }
 ],
 "metadata": {
  "kernelspec": {
   "display_name": "Python 3",
   "language": "python",
   "name": "python3"
  },
  "language_info": {
   "codemirror_mode": {
    "name": "ipython",
    "version": 2
   },
   "file_extension": ".py",
   "mimetype": "text/x-python",
   "name": "python",
   "nbconvert_exporter": "python",
   "pygments_lexer": "ipython2",
   "version": "2.7.6"
  }
 },
 "nbformat": 4,
 "nbformat_minor": 5
}
