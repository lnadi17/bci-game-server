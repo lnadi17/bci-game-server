{
 "cells": [
  {
   "cell_type": "code",
   "id": "initial_id",
   "metadata": {
    "collapsed": true,
    "jupyter": {
     "is_executing": true
    }
   },
   "source": [
    "from processing.preprocessing import BCIDataProcessor\n",
    "import numpy as np\n",
    "import matplotlib.pyplot as plt\n",
    "from sklearn.model_selection import train_test_split, RandomizedSearchCV, cross_val_predict, StratifiedKFold\n",
    "from sklearn.ensemble import RandomForestClassifier\n",
    "from sklearn.metrics import (classification_report, confusion_matrix, ConfusionMatrixDisplay,\n",
    "                             accuracy_score, precision_score, recall_score, f1_score)\n",
    "from scipy.stats import randint\n",
    "\n",
    "\n",
    "recording_path = '../recordings/recording_imagery1_gel.raw.fif'\n",
    "window_size = 2\n",
    "window_overlap = 1\n",
    "processor = BCIDataProcessor(recording_path, l_freq=7, h_freq=30, window_size=window_size,\n",
    "                             window_overlap=window_overlap)\n",
    "data = processor.process(psds=True, nfft=500)\n",
    "# Only select left_hand and right_hand\n",
    "data = {label: data[label] for label in data.keys() if label in ['relax', 'focus']}\n",
    "data"
   ],
   "outputs": [],
   "execution_count": null
  },
  {
   "metadata": {
    "ExecuteTime": {
     "end_time": "2025-04-28T20:20:42.385923Z",
     "start_time": "2025-04-28T20:20:37.975831Z"
    }
   },
   "cell_type": "code",
   "source": [
    "X = np.concatenate(list(data.values()), axis=0)\n",
    "X = X.reshape(X.shape[0], -1)  # Reshape to (samples, channels * features)\n",
    "y = np.concatenate([[label] * data[label].shape[0] for label in data.keys()])  # (samples,)\n",
    "X_trainval, X_test, y_trainval, y_test = train_test_split(\n",
    "    X, y, test_size=0.2, stratify=y, random_state=42\n",
    ")"
   ],
   "id": "1158743614b86884",
   "outputs": [],
   "execution_count": 6
  },
  {
   "metadata": {
    "ExecuteTime": {
     "end_time": "2025-04-28T20:20:42.386469Z",
     "start_time": "2025-04-28T20:20:37.990161Z"
    }
   },
   "cell_type": "code",
   "source": "X.shape, y.shape, X_trainval.shape, y_trainval.shape, X_test.shape, y_test.shape",
   "id": "f04b9f272b3463f",
   "outputs": [
    {
     "data": {
      "text/plain": [
       "((112, 376), (112,), (89, 376), (89,), (23, 376), (23,))"
      ]
     },
     "execution_count": 7,
     "metadata": {},
     "output_type": "execute_result"
    }
   ],
   "execution_count": 7
  },
  {
   "metadata": {
    "ExecuteTime": {
     "end_time": "2025-04-28T20:20:42.387278Z",
     "start_time": "2025-04-28T20:20:38.007367Z"
    }
   },
   "cell_type": "code",
   "source": [
    "import numpy as np\n",
    "import matplotlib.pyplot as plt\n",
    "from sklearn.model_selection import train_test_split, RandomizedSearchCV, StratifiedKFold\n",
    "from sklearn.svm import SVC\n",
    "from sklearn.preprocessing import StandardScaler\n",
    "from sklearn.pipeline import Pipeline\n",
    "from sklearn.metrics import (classification_report, confusion_matrix, ConfusionMatrixDisplay,\n",
    "                             accuracy_score, precision_score, recall_score, f1_score)\n",
    "from scipy.stats import uniform\n",
    "\n",
    "model = Pipeline([\n",
    "    ('scaler', StandardScaler()),\n",
    "    ('svc', SVC(random_state=42))\n",
    "])\n",
    "\n",
    "param_dist = {\n",
    "    'svc__C': uniform(0.1, 10),          # Regularization strength\n",
    "    'svc__gamma': ['scale', 'auto'] + list(np.logspace(-4, 1, 6)),  # Kernel coefficient\n",
    "    'svc__kernel': ['rbf', 'poly', 'sigmoid'],  # Different kernel types\n",
    "    'svc__degree': [2, 3, 4],            # Only relevant if kernel='poly'\n",
    "}\n",
    "\n",
    "cv = StratifiedKFold(n_splits=5, shuffle=True, random_state=42)\n",
    "\n",
    "random_search = RandomizedSearchCV(\n",
    "    estimator=model,\n",
    "    param_distributions=param_dist,\n",
    "    n_iter=30,\n",
    "    cv=cv,\n",
    "    scoring='accuracy',\n",
    "    n_jobs=-1,\n",
    "    random_state=42\n",
    ")\n",
    "random_search.fit(X_trainval, y_trainval)\n",
    "\n",
    "best_model = random_search.best_estimator_\n",
    "print(\"Best parameters found: \", random_search.best_params_)\n",
    "print(\"Training accuracy (CV avg): \", random_search.best_score_)\n",
    "\n",
    "y_pred = best_model.predict(X_test)\n",
    "\n",
    "conf_matrix = confusion_matrix(y_test, y_pred)\n",
    "acc = accuracy_score(y_test, y_pred)\n",
    "prec = precision_score(y_test, y_pred, average='weighted')\n",
    "rec = recall_score(y_test, y_pred, average='weighted')\n",
    "f1 = f1_score(y_test, y_pred, average='weighted')\n",
    "report = classification_report(y_test, y_pred)\n",
    "\n",
    "print(f\"Accuracy: {acc:.4f}\")\n",
    "print(f\"Precision (weighted): {prec:.4f}\")\n",
    "print(f\"Recall (weighted): {rec:.4f}\")\n",
    "print(f\"F1 Score (weighted): {f1:.4f}\")\n",
    "\n",
    "disp = ConfusionMatrixDisplay(confusion_matrix=conf_matrix, display_labels=np.unique(y))\n",
    "disp.plot(cmap=plt.cm.Blues)\n",
    "plt.title(\"Confusion Matrix (Holdout Test Set)\")\n",
    "plt.show()"
   ],
   "id": "c0c55b2342994b7d",
   "outputs": [
    {
     "name": "stdout",
     "output_type": "stream",
     "text": [
      "Best parameters found:  {'svc__C': np.float64(2.40893825622149), 'svc__degree': 4, 'svc__gamma': np.float64(0.001), 'svc__kernel': 'sigmoid'}\n",
      "Training accuracy (CV avg):  0.8209150326797385\n",
      "Accuracy: 0.7391\n",
      "Precision (weighted): 0.7754\n",
      "Recall (weighted): 0.7391\n",
      "F1 Score (weighted): 0.7331\n"
     ]
    },
    {
     "data": {
      "text/plain": [
       "<Figure size 640x480 with 2 Axes>"
      ],
      "image/png": "[encoded data removed]"
     },
     "metadata": {},
     "output_type": "display_data"
    }
   ],
   "execution_count": 8
  }
 ],
 "metadata": {
  "kernelspec": {
   "display_name": "Python 3",
   "language": "python",
   "name": "python3"
  },
  "language_info": {
   "codemirror_mode": {
    "name": "ipython",
    "version": 2
   },
   "file_extension": ".py",
   "mimetype": "text/x-python",
   "name": "python",
   "nbconvert_exporter": "python",
   "pygments_lexer": "ipython2",
   "version": "2.7.6"
  }
 },
 "nbformat": 4,
 "nbformat_minor": 5
}
