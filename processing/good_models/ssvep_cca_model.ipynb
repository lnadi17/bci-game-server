{
 "cells": [
  {
   "cell_type": "code",
   "id": "initial_id",
   "metadata": {
    "collapsed": true,
    "ExecuteTime": {
     "end_time": "2025-05-02T16:51:10.758022Z",
     "start_time": "2025-05-02T16:51:10.746572Z"
    }
   },
   "source": [
    "from collections import defaultdict\n",
    "import numpy as np\n",
    "from sklearn.cross_decomposition import CCA\n",
    "import matplotlib.pyplot as plt\n",
    "from processing.preprocessing import BCIDataProcessor\n",
    "import mne\n",
    "\n",
    "\n",
    "class CCAClassifier:\n",
    "    def __init__(self, sampling_rate=250, frequencies=(8, 11, 15), num_targets=3, n_components=1, harmonics=1):\n",
    "        self.frequencies = frequencies\n",
    "        self.sampling_rate = sampling_rate\n",
    "        self.num_targets = num_targets\n",
    "        self.n_components = n_components\n",
    "        self.harmonics = harmonics\n",
    "\n",
    "    def get_reference_signals(self, length, target_freq):\n",
    "        \"\"\"Generate sine and cosine templates (1st & 2nd harmonics) for a given frequency.\"\"\"\n",
    "        t = np.arange(0, length / self.sampling_rate, 1.0 / self.sampling_rate)\n",
    "        # Create first harmonic reference signals\n",
    "        ref = [\n",
    "            np.sin(2 * np.pi * target_freq * t),\n",
    "            np.cos(2 * np.pi * target_freq * t),\n",
    "        ]\n",
    "        # Create additional reference signals based on self.harmonics\n",
    "        for harmonic in range(2, self.harmonics + 1):\n",
    "            ref.append(np.sin(2 * np.pi * target_freq * harmonic * t))\n",
    "            ref.append(np.cos(2 * np.pi * target_freq * harmonic * t))\n",
    "        ref = np.array(ref)\n",
    "        return ref\n",
    "\n",
    "    def find_corr(self, eeg_data, references, n_components=1):\n",
    "        \"\"\"Perform CCA between EEG and reference signals for each frequency.\"\"\"\n",
    "        cca = CCA(n_components=n_components)\n",
    "        result = np.zeros(references.shape[0])\n",
    "\n",
    "        for i in range(references.shape[0]):\n",
    "            cca.fit(eeg_data.T, references[i].T)\n",
    "            X_c, Y_c = cca.transform(eeg_data.T, references[i].T)\n",
    "            corr = [np.corrcoef(X_c[:, j], Y_c[:, j])[0, 1] for j in range(n_components)]\n",
    "            result[i] = np.max(corr)\n",
    "\n",
    "        return result\n",
    "\n",
    "    def fit(self, X):\n",
    "        # Fit is the same as predict in this case\n",
    "        self.predict(X)\n",
    "\n",
    "    def predict(self, X):\n",
    "        \"\"\"Classify the EEG signals using CCA.\"\"\"\n",
    "        predictions = []\n",
    "        for eeg_data in X:\n",
    "            length = eeg_data.shape[1]\n",
    "            references = np.array([\n",
    "                self.get_reference_signals(length, freq)\n",
    "                for freq in self.frequencies\n",
    "            ])\n",
    "            correlations = self.find_corr(eeg_data, references, self.n_components)\n",
    "            predicted_class = self.frequencies[np.argmax(correlations)]\n",
    "            predicted_class = f'{predicted_class:.1f}'\n",
    "            predictions.append(predicted_class)\n",
    "        return np.array(predictions)"
   ],
   "outputs": [],
   "execution_count": 18
  },
  {
   "metadata": {
    "ExecuteTime": {
     "end_time": "2025-05-02T16:51:13.207220Z",
     "start_time": "2025-05-02T16:51:10.787568Z"
    }
   },
   "cell_type": "code",
   "source": [
    "recording_path_1 = '../../recordings/recording_ssvep1.raw.fif'\n",
    "recording_path_2 = '../../recordings/recording_ssvep2.raw.fif'\n",
    "recording_path_3 = '../../recordings/recording_ssvep4_gel.raw.fif'\n",
    "rescale = True\n",
    "window_size = 2\n",
    "window_overlap = 0\n",
    "filter_method = 'fir'\n",
    "l_freq, h_freq = 7, 31\n",
    "\n",
    "processor = BCIDataProcessor(recording_path_1, l_freq=l_freq, h_freq=h_freq, window_size=window_size,\n",
    "                             window_overlap=window_overlap, rescale=rescale, filter_method=filter_method)\n",
    "data = processor.process(channels=(5, 6, 7))\n",
    "# Only select 8.0 and 11.0\n",
    "# data = {label: data[label] for label in data.keys() if label in ['8.0', '11.0']}\n",
    "data"
   ],
   "id": "8c80d9e3cbb9d994",
   "outputs": [
    {
     "data": {
      "text/plain": [
       "{'11.0': array([[[ 4.55364912e-17, -1.78077325e-05, -2.80270970e-05, ...,\n",
       "           2.07858086e-05,  2.48898543e-05,  2.49472578e-05],\n",
       "         [ 1.78893358e-17, -1.04976287e-05, -1.62434584e-05, ...,\n",
       "           1.44068391e-05,  1.43863423e-05,  1.27458792e-05],\n",
       "         [ 1.41488384e-17, -6.66750906e-06, -9.80204844e-06, ...,\n",
       "           1.07383268e-05,  9.54233259e-06,  7.87335296e-06]],\n",
       " \n",
       "        [[ 2.23789653e-05,  1.98652394e-05,  1.94780248e-05, ...,\n",
       "           2.47196991e-05,  3.19077576e-05,  2.18357091e-05],\n",
       "         [ 1.10144133e-05,  1.04683348e-05,  1.13306934e-05, ...,\n",
       "          -3.65067805e-06,  4.10046345e-07,  1.32170134e-06],\n",
       "         [ 6.94869691e-06,  7.27807655e-06,  8.42193175e-06, ...,\n",
       "          -9.71776496e-06, -8.02296044e-06, -4.57447987e-06]],\n",
       " \n",
       "        [[ 1.44469939e-17,  2.89254087e-05,  4.84849992e-05, ...,\n",
       "          -5.63870116e-07,  5.30944891e-06,  1.03296453e-05],\n",
       "         [ 1.25225351e-17,  7.78193117e-06,  1.35488046e-05, ...,\n",
       "           5.04978781e-06,  5.35355466e-06,  4.26283047e-06],\n",
       "         [-1.43656788e-18,  2.72012381e-06,  4.87907528e-06, ...,\n",
       "           5.56743912e-06,  4.02382328e-06,  1.42650736e-06]],\n",
       " \n",
       "        ...,\n",
       " \n",
       "        [[ 1.08817124e-05,  6.70434488e-06,  1.89363310e-06, ...,\n",
       "           4.08993604e-05,  3.57808584e-05,  2.10182154e-05],\n",
       "         [ 2.56586661e-06,  1.08076834e-06, -7.73143643e-07, ...,\n",
       "           6.23590108e-06,  5.03561734e-06,  2.77786589e-06],\n",
       "         [ 6.82865511e-06,  1.01206743e-05,  1.10211778e-05, ...,\n",
       "           2.16379299e-06,  1.81126290e-06,  1.00121530e-06]],\n",
       " \n",
       "        [[ 2.53703308e-17,  1.82708628e-05,  3.17445119e-05, ...,\n",
       "           1.25654484e-06, -1.03609099e-06, -4.53276610e-06],\n",
       "         [ 2.66713734e-17, -4.61729584e-07, -9.02171713e-07, ...,\n",
       "           3.27916873e-06,  1.64876091e-06, -4.19599626e-07],\n",
       "         [ 1.14383329e-17, -2.81622634e-06, -4.97490907e-06, ...,\n",
       "           1.50408750e-06, -1.96121842e-06, -4.83762578e-06]],\n",
       " \n",
       "        [[-6.59831181e-06, -5.69050523e-06, -2.20781808e-06, ...,\n",
       "           4.81825222e-05,  4.13429893e-05,  2.40251982e-05],\n",
       "         [-9.97437668e-07,  6.95048533e-07,  3.89234403e-06, ...,\n",
       "           6.58785563e-06,  6.82353149e-06,  4.34116647e-06],\n",
       "         [-5.74429155e-06, -4.48947884e-06, -2.05772050e-06, ...,\n",
       "           4.03485194e-06,  4.78956450e-06,  3.17653575e-06]]],\n",
       "       shape=(30, 3, 500)),\n",
       " '15.0': array([[[ 2.81621514e-17,  5.61997029e-07, -2.02319271e-06, ...,\n",
       "          -1.32610227e-05, -1.36513050e-05, -1.27478404e-05],\n",
       "         [ 1.59919820e-17, -2.81667241e-07, -7.36940704e-07, ...,\n",
       "           3.64335759e-06,  1.99984151e-06,  1.03094348e-06],\n",
       "         [ 2.35813973e-17, -5.31476877e-07, -7.69633813e-07, ...,\n",
       "           4.28399529e-06,  2.53327251e-06,  1.16891269e-06]],\n",
       " \n",
       "        [[-1.05082456e-05, -7.36949647e-06, -4.21742788e-06, ...,\n",
       "           6.13686236e-06,  6.78070121e-06,  4.44951278e-06],\n",
       "         [ 7.47835291e-07,  6.76619968e-07,  2.50625399e-07, ...,\n",
       "           8.97531407e-07,  1.44260904e-06,  1.06516231e-06],\n",
       "         [ 4.23606228e-07,  1.11479975e-07, -9.68081165e-08, ...,\n",
       "           7.94061152e-07,  9.19496627e-07,  6.30969965e-07]],\n",
       " \n",
       "        [[-5.39390581e-18, -2.33460622e-05, -3.90854971e-05, ...,\n",
       "          -1.43873264e-05, -1.81236326e-05, -2.06186099e-05],\n",
       "         [ 3.49113100e-17, -1.09558780e-06, -1.64809084e-06, ...,\n",
       "          -4.34399954e-06, -5.26881064e-06, -5.87241296e-06],\n",
       "         [ 2.21448294e-17,  2.76020906e-06,  4.52907974e-06, ...,\n",
       "          -6.35642850e-07, -9.80126841e-07, -1.18574325e-06]],\n",
       " \n",
       "        ...,\n",
       " \n",
       "        [[ 2.36215238e-05,  7.87699197e-06, -6.06113546e-06, ...,\n",
       "          -4.54068156e-05, -3.68574447e-05, -2.07202081e-05],\n",
       "         [-1.08168281e-06, -4.37681306e-06, -5.57695908e-06, ...,\n",
       "          -2.97009846e-06, -2.70645158e-06, -1.62952332e-06],\n",
       "         [-2.05859752e-06, -5.13105625e-06, -6.22170582e-06, ...,\n",
       "           4.27915399e-06,  2.52308250e-06,  1.10008750e-06]],\n",
       " \n",
       "        [[ 1.95698492e-17,  5.43556558e-05,  8.54628434e-05, ...,\n",
       "          -4.66592948e-05, -4.18620032e-05, -3.77753876e-05],\n",
       "         [ 1.01372903e-17,  1.44459373e-05,  2.21645803e-05, ...,\n",
       "          -1.42033664e-05, -1.14021295e-05, -9.39494511e-06],\n",
       "         [-3.46944695e-18,  5.09488657e-06,  7.60453234e-06, ...,\n",
       "          -7.62390808e-06, -5.73965773e-06, -4.35684036e-06]],\n",
       " \n",
       "        [[-3.79464098e-05, -4.10386621e-05, -4.18625923e-05, ...,\n",
       "          -2.65091389e-05, -2.18150190e-05, -1.24027029e-05],\n",
       "         [-9.27994929e-06, -1.04177330e-05, -1.09864575e-05, ...,\n",
       "          -3.30952229e-06, -2.04259682e-06, -9.23834174e-07],\n",
       "         [-4.02960077e-06, -4.43542247e-06, -4.72538153e-06, ...,\n",
       "           2.55426609e-06,  3.21206950e-06,  2.19185889e-06]]],\n",
       "       shape=(30, 3, 500)),\n",
       " '8.0': array([[[ 3.68628739e-17,  5.40026124e-07,  3.59806795e-07, ...,\n",
       "           1.27347877e-05,  1.17017363e-05,  1.04757065e-05],\n",
       "         [ 4.13081028e-17,  3.02774103e-06,  4.49425715e-06, ...,\n",
       "           1.51181960e-06,  3.93474263e-07, -5.46341496e-07],\n",
       "         [ 4.79217360e-17,  6.54920521e-07,  1.20845798e-06, ...,\n",
       "          -3.29098640e-06, -5.31232482e-06, -6.17242908e-06]],\n",
       " \n",
       "        [[ 9.56606953e-06,  9.10430111e-06,  8.62602377e-06, ...,\n",
       "           2.36207671e-05,  2.21895896e-05,  1.34999034e-05],\n",
       "         [-7.92619632e-07, -8.62264937e-08,  1.40138900e-06, ...,\n",
       "          -6.09534636e-06, -3.79791296e-06, -1.76399780e-06],\n",
       "         [-5.51573175e-06, -3.59594047e-06, -1.17220812e-06, ...,\n",
       "          -7.61913805e-06, -5.53464680e-06, -2.93027196e-06]],\n",
       " \n",
       "        [[-7.07441918e-18,  2.95073590e-05,  5.12400929e-05, ...,\n",
       "           6.30995606e-06,  2.11220947e-06, -1.78567143e-06],\n",
       "         [ 2.15214131e-17,  7.45488491e-06,  1.29080369e-05, ...,\n",
       "          -1.37464957e-06, -2.32075866e-06, -2.46541231e-06],\n",
       "         [ 8.42967189e-18,  2.03910947e-06,  3.57113382e-06, ...,\n",
       "          -8.86849773e-07, -1.09263535e-06, -1.22785412e-06]],\n",
       " \n",
       "        ...,\n",
       " \n",
       "        [[ 2.26808736e-05,  1.13723034e-05, -4.75628859e-06, ...,\n",
       "           6.64627072e-05,  4.96854742e-05,  2.65079631e-05],\n",
       "         [ 3.50142403e-06, -1.81767844e-07, -4.39350092e-06, ...,\n",
       "           1.07896089e-05,  7.35862147e-06,  3.71599654e-06],\n",
       "         [ 1.81098978e-06,  4.78693303e-08, -1.88315831e-06, ...,\n",
       "           1.48679852e-06,  8.75981646e-08, -3.03564488e-07]],\n",
       " \n",
       "        [[ 1.69406589e-17,  3.06228381e-05,  4.81232553e-05, ...,\n",
       "          -3.89823336e-05, -3.10332548e-05, -1.98584177e-05],\n",
       "         [ 2.49908601e-17,  2.79370608e-06,  4.73760474e-06, ...,\n",
       "          -3.52674071e-06, -3.53619929e-06, -3.53534552e-06],\n",
       "         [ 1.66696084e-17, -5.27576936e-06, -8.48276118e-06, ...,\n",
       "           1.39718586e-06, -3.51787009e-07, -2.49875045e-06]],\n",
       " \n",
       "        [[-9.08956040e-06, -9.72618164e-07,  4.07497387e-06, ...,\n",
       "          -8.26521098e-06, -4.96606851e-06, -2.19197089e-06],\n",
       "         [-3.43819400e-06, -2.98879786e-06, -1.99310920e-06, ...,\n",
       "          -1.65215830e-05, -1.38347952e-05, -7.91786053e-06],\n",
       "         [-3.98104547e-06, -4.02834034e-06, -2.56033406e-06, ...,\n",
       "          -1.18475253e-05, -9.63803574e-06, -5.42867244e-06]]],\n",
       "       shape=(30, 3, 500))}"
      ]
     },
     "execution_count": 19,
     "metadata": {},
     "output_type": "execute_result"
    }
   ],
   "execution_count": 19
  },
  {
   "metadata": {
    "ExecuteTime": {
     "end_time": "2025-05-02T16:51:14.236586Z",
     "start_time": "2025-05-02T16:51:14.201304Z"
    }
   },
   "cell_type": "code",
   "source": [
    "X = np.concatenate(list(data.values()), axis=0)\n",
    "y = np.concatenate([[label] * data[label].shape[0] for label in data.keys()])  # (samples,)\n",
    "X.shape, y.shape"
   ],
   "id": "71ea9fa143aa599b",
   "outputs": [
    {
     "data": {
      "text/plain": [
       "((90, 3, 500), (90,))"
      ]
     },
     "execution_count": 20,
     "metadata": {},
     "output_type": "execute_result"
    }
   ],
   "execution_count": 20
  },
  {
   "metadata": {
    "ExecuteTime": {
     "end_time": "2025-05-02T16:51:14.843041Z",
     "start_time": "2025-05-02T16:51:14.330012Z"
    }
   },
   "cell_type": "code",
   "source": [
    "import numpy as np\n",
    "from sklearn.metrics import accuracy_score\n",
    "\n",
    "classifier = CCAClassifier(sampling_rate=250, frequencies=[11, 8, 15], num_targets=3, n_components=1)\n",
    "y_pred = classifier.predict(X)\n",
    "\n",
    "acc = accuracy_score(y, y_pred)\n",
    "print(f\"Classification Accuracy: {acc * 100:.2f}%\")"
   ],
   "id": "4afdf59495575416",
   "outputs": [
    {
     "name": "stdout",
     "output_type": "stream",
     "text": [
      "Classification Accuracy: 51.11%\n"
     ]
    }
   ],
   "execution_count": 21
  },
  {
   "metadata": {
    "ExecuteTime": {
     "end_time": "2025-05-02T16:51:15.064651Z",
     "start_time": "2025-05-02T16:51:14.861198Z"
    }
   },
   "cell_type": "code",
   "source": [
    "from sklearn.metrics import confusion_matrix, ConfusionMatrixDisplay\n",
    "\n",
    "# Compute the confusion matrix\n",
    "conf_matrix = confusion_matrix(y, y_pred)\n",
    "\n",
    "# Plot the confusion matrix\n",
    "disp = ConfusionMatrixDisplay(confusion_matrix=conf_matrix, display_labels=np.unique(y_pred))\n",
    "disp.plot(cmap=plt.cm.Blues)\n",
    "plt.title(\"Confusion Matrix (Validation Set)\")\n",
    "plt.show()"
   ],
   "id": "a3dbfbd91a44ef63",
   "outputs": [
    {
     "data": {
      "text/plain": [
       "<Figure size 640x480 with 2 Axes>"
      ],
      "image/png": "[encoded data removed]"
     },
     "metadata": {},
     "output_type": "display_data"
    }
   ],
   "execution_count": 22
  }
 ],
 "metadata": {
  "kernelspec": {
   "display_name": "Python 3",
   "language": "python",
   "name": "python3"
  },
  "language_info": {
   "codemirror_mode": {
    "name": "ipython",
    "version": 2
   },
   "file_extension": ".py",
   "mimetype": "text/x-python",
   "name": "python",
   "nbconvert_exporter": "python",
   "pygments_lexer": "ipython2",
   "version": "2.7.6"
  }
 },
 "nbformat": 4,
 "nbformat_minor": 5
}
