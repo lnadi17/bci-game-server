{
 "cells": [
  {
   "cell_type": "code",
   "id": "initial_id",
   "metadata": {
    "collapsed": true,
    "ExecuteTime": {
     "end_time": "2025-04-26T07:34:51.206370Z",
     "start_time": "2025-04-26T07:34:51.199730Z"
    }
   },
   "source": [
    "from preprocessing import BCIDataProcessor\n",
    "import mne\n",
    "import numpy as np\n",
    "import matplotlib.pyplot as plt"
   ],
   "outputs": [],
   "execution_count": 89
  },
  {
   "metadata": {
    "ExecuteTime": {
     "end_time": "2025-04-26T07:34:54.181205Z",
     "start_time": "2025-04-26T07:34:51.212884Z"
    }
   },
   "cell_type": "code",
   "source": [
    "recording_path = '../recordings/recording_ssvep4_gel.raw.fif'\n",
    "window_size = 2\n",
    "window_overlap = 1\n",
    "nfft1 = 500\n",
    "nfft2 = 500\n",
    "processor = BCIDataProcessor(recording_path, l_freq=7, h_freq=30, window_size=window_size,\n",
    "                             window_overlap=window_overlap)\n",
    "processor1 = BCIDataProcessor(recording_path, l_freq=10, h_freq=12, window_size=window_size,\n",
    "                              window_overlap=window_overlap)\n",
    "processor2 = BCIDataProcessor(recording_path, l_freq=14, h_freq=16, window_size=window_size,\n",
    "                              window_overlap=window_overlap)\n",
    "processor3 = BCIDataProcessor(recording_path, l_freq=18, h_freq=20, window_size=window_size,\n",
    "                              window_overlap=window_overlap)\n",
    "processor4 = BCIDataProcessor(recording_path, l_freq=22, h_freq=24, window_size=window_size,\n",
    "                              window_overlap=window_overlap)\n",
    "processor5 = BCIDataProcessor(recording_path, l_freq=19, h_freq=21, window_size=window_size,\n",
    "                              window_overlap=window_overlap)\n",
    "data_arrays = processor.process(psds=True, nfft=nfft1, channels=(5, 6, 7))\n",
    "data_arrays1 = processor1.process(psds=True, nfft=nfft2, channels=(5, 6, 7))\n",
    "data_arrays2 = processor2.process(psds=True, nfft=nfft2, channels=(5, 6, 7))\n",
    "data_arrays3 = processor3.process(psds=True, nfft=nfft2, channels=(5, 6, 7))\n",
    "data_arrays4 = processor4.process(psds=True, nfft=nfft2, channels=(5, 6, 7))\n",
    "data_arrays5 = processor5.process(psds=True, nfft=nfft2, channels=(5, 6, 7))\n",
    "arr_all = [\n",
    "    #data_arrays,\n",
    "    data_arrays1,\n",
    "    data_arrays2,\n",
    "    data_arrays3,\n",
    "    data_arrays4,\n",
    "    data_arrays5\n",
    "]"
   ],
   "id": "c0959a74b17a28e7",
   "outputs": [],
   "execution_count": 90
  },
  {
   "metadata": {
    "ExecuteTime": {
     "end_time": "2025-04-26T07:34:54.259878Z",
     "start_time": "2025-04-26T07:34:54.257161Z"
    }
   },
   "cell_type": "code",
   "source": [
    "# Merge data arrays along feature axis\n",
    "feature_arrays = {}\n",
    "for label in data_arrays.keys():\n",
    "    feature_arrays[label] = np.concatenate([arr[label] for arr in arr_all], axis=2)\n",
    "feature_arrays['15.0'].shape  # (samples, channels, features)"
   ],
   "id": "745713db9fd0f61",
   "outputs": [
    {
     "data": {
      "text/plain": [
       "(45, 3, 25)"
      ]
     },
     "execution_count": 91,
     "metadata": {},
     "output_type": "execute_result"
    }
   ],
   "execution_count": 91
  },
  {
   "metadata": {
    "ExecuteTime": {
     "end_time": "2025-04-26T07:34:54.266321Z",
     "start_time": "2025-04-26T07:34:54.263950Z"
    }
   },
   "cell_type": "code",
   "source": [
    "# Create X and y based on the labels\n",
    "X = np.concatenate(list(feature_arrays.values()), axis=0)  # (samples, channels, features)\n",
    "y = np.concatenate([[label] * feature_arrays[label].shape[0] for label in feature_arrays.keys()])  # (samples,)\n",
    "# Reshape X to 2D (samples, features)\n",
    "X = X.reshape(X.shape[0], -1)  # (samples, channels * features)\n",
    "# Check the shape of X and y\n",
    "print(\"X shape:\", X.shape)  # (samples, channels * features)"
   ],
   "id": "fdd6c3042fa557c0",
   "outputs": [
    {
     "name": "stdout",
     "output_type": "stream",
     "text": [
      "X shape: (180, 75)\n"
     ]
    }
   ],
   "execution_count": 92
  },
  {
   "metadata": {
    "ExecuteTime": {
     "end_time": "2025-04-26T07:34:54.435958Z",
     "start_time": "2025-04-26T07:34:54.304362Z"
    }
   },
   "cell_type": "code",
   "source": [
    "from sklearn.svm import SVC\n",
    "from sklearn.pipeline import Pipeline\n",
    "from sklearn.preprocessing import StandardScaler\n",
    "from sklearn.model_selection import StratifiedKFold, GridSearchCV, cross_val_predict\n",
    "from sklearn.metrics import classification_report, confusion_matrix, ConfusionMatrixDisplay\n",
    "import matplotlib.pyplot as plt\n",
    "\n",
    "# Assume X and y are already defined\n",
    "# It's essential to scale features for SVM\n",
    "pipeline = Pipeline([\n",
    "    ('scaler', StandardScaler()),\n",
    "    ('svc', SVC())\n",
    "])\n",
    "\n",
    "# Hyperparameter grid\n",
    "param_grid = {\n",
    "    'svc__C': [0.005, 0.01, 0.05, 0.1, 1],\n",
    "    'svc__kernel': ['linear'],\n",
    "    'svc__gamma': ['scale', 'auto']\n",
    "}\n",
    "\n",
    "# Cross-validation strategy\n",
    "cv = StratifiedKFold(n_splits=5, shuffle=True, random_state=42)\n",
    "\n",
    "# Grid search\n",
    "grid_search = GridSearchCV(pipeline, param_grid, cv=cv, scoring='accuracy', n_jobs=-1)\n",
    "grid_search.fit(X, y)\n",
    "best_model = grid_search.best_estimator_\n",
    "\n",
    "# Cross-validated predictions\n",
    "y_pred = cross_val_predict(best_model, X, y, cv=cv)\n",
    "\n",
    "# Evaluation\n",
    "print(\"Best Parameters:\", grid_search.best_params_)\n",
    "print(\"\\nClassification Report:\\n\", classification_report(y, y_pred))\n",
    "\n",
    "# Confusion matrix\n",
    "cm = confusion_matrix(y, y_pred)\n",
    "disp = ConfusionMatrixDisplay(confusion_matrix=cm)\n",
    "disp.plot(cmap=plt.cm.Blues)\n",
    "plt.title(\"Confusion Matrix\")\n",
    "plt.show()"
   ],
   "id": "17421fa1d8d9279",
   "outputs": [
    {
     "name": "stdout",
     "output_type": "stream",
     "text": [
      "Best Parameters: {'svc__C': 0.005, 'svc__gamma': 'scale', 'svc__kernel': 'linear'}\n",
      "\n",
      "Classification Report:\n",
      "               precision    recall  f1-score   support\n",
      "\n",
      "        11.0       0.60      0.82      0.69        45\n",
      "        15.0       0.60      0.56      0.57        45\n",
      "        19.0       0.74      0.51      0.61        45\n",
      "        23.0       0.56      0.56      0.56        45\n",
      "\n",
      "    accuracy                           0.61       180\n",
      "   macro avg       0.62      0.61      0.61       180\n",
      "weighted avg       0.62      0.61      0.61       180\n",
      "\n"
     ]
    },
    {
     "data": {
      "text/plain": [
       "<Figure size 640x480 with 2 Axes>"
      ],
      "image/png": "[encoded data removed]"
     },
     "metadata": {},
     "output_type": "display_data"
    }
   ],
   "execution_count": 93
  },
  {
   "metadata": {
    "ExecuteTime": {
     "end_time": "2025-04-26T07:34:54.559568Z",
     "start_time": "2025-04-26T07:34:54.558173Z"
    }
   },
   "cell_type": "code",
   "source": "",
   "id": "89e8dd32af8b5a15",
   "outputs": [],
   "execution_count": null
  }
 ],
 "metadata": {
  "kernelspec": {
   "display_name": "Python 3",
   "language": "python",
   "name": "python3"
  },
  "language_info": {
   "codemirror_mode": {
    "name": "ipython",
    "version": 2
   },
   "file_extension": ".py",
   "mimetype": "text/x-python",
   "name": "python",
   "nbconvert_exporter": "python",
   "pygments_lexer": "ipython2",
   "version": "2.7.6"
  }
 },
 "nbformat": 4,
 "nbformat_minor": 5
}
