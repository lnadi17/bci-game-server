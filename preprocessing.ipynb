{
 "cells": [
  {
   "cell_type": "code",
   "id": "initial_id",
   "metadata": {
    "collapsed": true
   },
   "source": [
    "import mne\n",
    "import matplotlib.pyplot as plt\n",
    "from collections import defaultdict\n",
    "import numpy as np"
   ],
   "outputs": [],
   "execution_count": null
  },
  {
   "metadata": {},
   "cell_type": "code",
   "source": "recording_path = 'recordings/recording_ssvep4_gel.raw.fif'",
   "id": "6c3ae7c7eeaeb25a",
   "outputs": [],
   "execution_count": null
  },
  {
   "metadata": {},
   "cell_type": "code",
   "source": [
    "raw = mne.io.read_raw_fif(recording_path, preload=True).rescale(1e-6)\n",
    "raw.info = mne.create_info(ch_names=raw.ch_names, sfreq=raw.info['sfreq'], ch_types='eeg')\n",
    "raw.info"
   ],
   "id": "7c4392053e8302c0",
   "outputs": [],
   "execution_count": null
  },
  {
   "metadata": {},
   "cell_type": "code",
   "source": [
    "raw.plot()\n",
    "plt.show()"
   ],
   "id": "b1fec51a96544cfc",
   "outputs": [],
   "execution_count": null
  },
  {
   "metadata": {},
   "cell_type": "code",
   "source": "raw.annotations.description, raw.annotations.onset",
   "id": "8e2b93c56b51be18",
   "outputs": [],
   "execution_count": null
  },
  {
   "metadata": {},
   "cell_type": "code",
   "source": [
    "label_onsets = defaultdict(list)\n",
    "current_cue = None\n",
    "stimulus_duration = None\n",
    "\n",
    "# Calculate stimulus presentation time assuming all are equal\n",
    "for i in range(len(raw.annotations) - 1):\n",
    "    if raw.annotations[i]['description'].startswith('stimulus'):\n",
    "        assert raw.annotations[i + 1]['description'].startswith('cue')\n",
    "        # Calculate the duration of the stimulus presentation\n",
    "        stimulus_duration = int(raw.annotations[i + 1]['onset'] - raw.annotations[i]['onset'])\n",
    "        break\n",
    "\n",
    "print(stimulus_duration)\n",
    "\n",
    "for annotation in raw.annotations:\n",
    "    if annotation['description'].startswith('cue'):\n",
    "        current_cue = annotation['description'].split(' ')[1]\n",
    "    elif annotation['description'].startswith('stimulus'):\n",
    "        current_onset = annotation['onset']\n",
    "        # We must already have a cue (every stimulus follows a cue)\n",
    "        label_onsets[current_cue].append(current_onset)\n",
    "\n",
    "label_onsets"
   ],
   "id": "80e7d52a46561b9c",
   "outputs": [],
   "execution_count": null
  },
  {
   "metadata": {},
   "cell_type": "code",
   "source": [
    "# For each label, crop the raw data\n",
    "def crop_raw_data(raw, label_onsets, stimulus_duration):\n",
    "    cropped_data = {}\n",
    "    for label, onsets in label_onsets.items():\n",
    "        cropped_data[label] = []\n",
    "        for onset in onsets:\n",
    "            end = onset + stimulus_duration\n",
    "            cropped_data[label].append(raw.copy().crop(onset, end))\n",
    "    return cropped_data\n",
    "cropped = crop_raw_data(raw, label_onsets, stimulus_duration)\n",
    "cropped"
   ],
   "id": "49c2a6087802d474",
   "outputs": [],
   "execution_count": null
  },
  {
   "metadata": {},
   "cell_type": "code",
   "source": [
    "def filter_cropped_data(cropped, l_freq=None, h_freq=None):\n",
    "    filtered_data = {}\n",
    "    for label, raw_list in cropped.items():\n",
    "        filtered_data[label] = []\n",
    "        for raw in raw_list:\n",
    "            filtered = raw.copy().filter(l_freq, h_freq)\n",
    "            filtered_data[label].append(filtered)\n",
    "    return filtered_data\n",
    "filtered = filter_cropped_data(cropped, l_freq=8, h_freq=30)\n",
    "filtered"
   ],
   "id": "8e921d93e45eca5f",
   "outputs": [],
   "execution_count": null
  },
  {
   "metadata": {},
   "cell_type": "code",
   "source": [
    "def epoch_filtered_data(filtered, window_size, window_overlap):\n",
    "    epochs_data = {}\n",
    "    for label, raw_list in filtered.items():\n",
    "        epochs_data[label] = []\n",
    "        for raw in raw_list:\n",
    "            # Create epochs with the specified window size and overlap\n",
    "            epochs = mne.make_fixed_length_epochs(raw, duration=window_size, overlap=window_overlap, preload=True)\n",
    "            epochs_data[label].append(epochs)\n",
    "    return epochs_data\n",
    "epochs = epoch_filtered_data(filtered, window_size=2, window_overlap=0.5)\n",
    "epochs"
   ],
   "id": "9f76c42202426883",
   "outputs": [],
   "execution_count": null
  },
  {
   "metadata": {},
   "cell_type": "code",
   "source": [
    "def convert_epochs_to_array(epochs):\n",
    "    data_arrays = {}\n",
    "    for label, epochs_list in epochs.items():\n",
    "        data_arrays[label] = []\n",
    "        for raw in epochs_list:\n",
    "            # Convert epochs to numpy array\n",
    "            data_arrays[label].append(raw.get_data())\n",
    "        # Convert to numpy array\n",
    "        data_arrays[label] = np.concatenate(data_arrays[label], axis=0)\n",
    "    return data_arrays\n",
    "data_arrays = convert_epochs_to_array(epochs)\n",
    "data_arrays['15.0']"
   ],
   "id": "9ff26b98eb9bc435",
   "outputs": [],
   "execution_count": null
  },
  {
   "metadata": {},
   "cell_type": "code",
   "source": "data_arrays['15.0'][0]",
   "id": "5079fcb72795e126",
   "outputs": [],
   "execution_count": null
  }
 ],
 "metadata": {
  "kernelspec": {
   "display_name": "Python 3",
   "language": "python",
   "name": "python3"
  },
  "language_info": {
   "codemirror_mode": {
    "name": "ipython",
    "version": 2
   },
   "file_extension": ".py",
   "mimetype": "text/x-python",
   "name": "python",
   "nbconvert_exporter": "python",
   "pygments_lexer": "ipython2",
   "version": "2.7.6"
  }
 },
 "nbformat": 4,
 "nbformat_minor": 5
}
