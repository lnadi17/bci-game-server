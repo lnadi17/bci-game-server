{
 "cells": [
  {
   "cell_type": "code",
   "id": "initial_id",
   "metadata": {
    "collapsed": true,
    "ExecuteTime": {
     "end_time": "2025-05-01T20:35:53.317554Z",
     "start_time": "2025-05-01T20:35:53.210100Z"
    }
   },
   "source": [
    "from collections import defaultdict\n",
    "import numpy as np\n",
    "from sklearn.cross_decomposition import CCA\n",
    "import matplotlib.pyplot as plt\n",
    "from processing.preprocessing import BCIDataProcessor\n",
    "import mne\n",
    "\n",
    "\n",
    "class SSVEP_CCA_Classifier:\n",
    "    def __init__(self, sampling_rate=250, frequencies=(8, 11, 15), num_targets=3, n_components=1):\n",
    "        self.frequencies = frequencies\n",
    "        self.sampling_rate = sampling_rate\n",
    "        self.num_targets = num_targets\n",
    "        self.n_components = n_components\n",
    "\n",
    "    def get_reference_signals(self, length, target_freq):\n",
    "        \"\"\"Generate sine and cosine templates (1st & 2nd harmonics) for a given frequency.\"\"\"\n",
    "        t = np.arange(0, length / self.sampling_rate, 1.0 / self.sampling_rate)\n",
    "        ref = np.array([\n",
    "            np.sin(2 * np.pi * target_freq * t),\n",
    "            np.cos(2 * np.pi * target_freq * t),\n",
    "            # np.sin(4 * np.pi * target_freq * t),\n",
    "            # np.cos(4 * np.pi * target_freq * t)\n",
    "        ])\n",
    "        return ref\n",
    "\n",
    "    def find_corr(self, eeg_data, references, n_components=1):\n",
    "        \"\"\"Perform CCA between EEG and reference signals for each frequency.\"\"\"\n",
    "        cca = CCA(n_components=n_components)\n",
    "        # cca = CCA(n_components=n_components, scale=False, tol=1e-12, max_iter=1000)\n",
    "        result = np.zeros(references.shape[0])\n",
    "\n",
    "        for i in range(references.shape[0]):\n",
    "            cca.fit(eeg_data.T, references[i].T)\n",
    "            X_c, Y_c = cca.transform(eeg_data.T, references[i].T)\n",
    "            corr = [np.corrcoef(X_c[:, j], Y_c[:, j])[0, 1] for j in range(n_components)]\n",
    "            result[i] = np.max(corr)\n",
    "\n",
    "        return result\n",
    "\n",
    "    def predict(self, X):\n",
    "        \"\"\"Classify the EEG signals using CCA.\"\"\"\n",
    "        predictions = []\n",
    "        for eeg_data in X:\n",
    "            length = eeg_data.shape[1]\n",
    "            references = np.array([\n",
    "                self.get_reference_signals(length, freq)\n",
    "                for freq in self.frequencies\n",
    "            ])\n",
    "            correlations = self.find_corr(eeg_data, references, self.n_components)\n",
    "            predicted_class = self.frequencies[np.argmax(correlations)]\n",
    "            predicted_class = f'{predicted_class:.1f}'\n",
    "            predictions.append(predicted_class)\n",
    "        return np.array(predictions)"
   ],
   "outputs": [],
   "execution_count": 66
  },
  {
   "metadata": {
    "ExecuteTime": {
     "end_time": "2025-05-01T20:36:37.387188Z",
     "start_time": "2025-05-01T20:36:33.182534Z"
    }
   },
   "cell_type": "code",
   "source": [
    "recording_path_1 = '../recordings/recording_ssvep1.raw.fif'\n",
    "recording_path_2 = '../recordings/recording_ssvep2.raw.fif'\n",
    "recording_path_3 = '../recordings/recording_ssvep4_gel.raw.fif'\n",
    "rescale = True\n",
    "window_size = 4\n",
    "window_overlap = 0\n",
    "filter_method = 'fir'\n",
    "l_freq, h_freq = 7, 31\n",
    "\n",
    "processor = BCIDataProcessor(recording_path_2, l_freq=l_freq, h_freq=h_freq, window_size=window_size,\n",
    "                             window_overlap=window_overlap, rescale=rescale, filter_method=filter_method)\n",
    "data = processor.process(channels=(5, 6, 7))\n",
    "# Only select 8.0 and 11.0\n",
    "# data = {label: data[label] for label in data.keys() if label in ['8.0', '11.0']}\n",
    "data"
   ],
   "id": "8c80d9e3cbb9d994",
   "outputs": [
    {
     "data": {
      "text/plain": [
       "{'11.0': array([[[ 3.66514946e-17, -3.78600566e-05, -6.53891074e-05, ...,\n",
       "           4.16776171e-06,  7.34256224e-07, -4.16303417e-06],\n",
       "         [ 5.80631223e-18, -1.76140820e-05, -2.96684894e-05, ...,\n",
       "          -5.16132991e-06, -3.04570267e-06, -9.88888389e-07],\n",
       "         [ 1.85988056e-17, -1.33565180e-05, -2.19467367e-05, ...,\n",
       "          -1.09074778e-05, -6.35148183e-06, -1.35644626e-06]],\n",
       " \n",
       "        [[-8.63760544e-06, -1.09012691e-05, -1.00562858e-05, ...,\n",
       "          -3.61729416e-06, -2.59640251e-06, -1.26562120e-06],\n",
       "         [ 4.66373774e-07,  1.10769353e-06,  1.11980726e-06, ...,\n",
       "           2.49892506e-07,  2.79941273e-07,  8.93640826e-08],\n",
       "         [ 1.79303461e-06,  2.12525785e-06,  2.82133282e-07, ...,\n",
       "           1.50935162e-06,  1.94866283e-06,  1.75236481e-06]],\n",
       " \n",
       "        [[-7.09472358e-07, -1.87974615e-06, -4.86198311e-06, ...,\n",
       "           1.36897806e-05,  1.42517139e-05,  1.57200249e-05],\n",
       "         [-3.87464779e-07, -1.24072201e-06, -2.35461228e-06, ...,\n",
       "           1.87947498e-06,  1.29884256e-06,  1.36220426e-06],\n",
       "         [ 6.92995186e-07, -9.96450759e-07, -2.56086010e-06, ...,\n",
       "           2.19720087e-06,  1.79741892e-06,  7.73640868e-07]],\n",
       " \n",
       "        ...,\n",
       " \n",
       "        [[ 4.58733784e-06,  2.48314421e-06, -6.51401986e-07, ...,\n",
       "          -8.66123945e-07, -4.56922493e-06, -6.04533575e-06],\n",
       "         [-8.09273374e-06, -6.55995235e-06, -4.13035064e-06, ...,\n",
       "           5.85759288e-06,  5.31461699e-06,  4.52086459e-06],\n",
       "         [-1.56495275e-05, -1.11803423e-05, -4.56560219e-06, ...,\n",
       "           3.56083797e-06,  5.13319393e-06,  5.94127236e-06]],\n",
       " \n",
       "        [[-4.32990835e-06,  8.62494611e-08,  5.46381231e-06, ...,\n",
       "           1.44360849e-05,  1.44387722e-05,  1.50393028e-05],\n",
       "         [ 3.89718893e-06,  3.38609267e-06,  2.56730629e-06, ...,\n",
       "           9.08100907e-06,  9.20178078e-06,  8.20561424e-06],\n",
       "         [ 5.83199520e-06,  4.72645501e-06,  2.70436837e-06, ...,\n",
       "           2.63421076e-06,  3.35217170e-06,  3.56263643e-06]],\n",
       " \n",
       "        [[ 1.59228512e-05,  1.59884656e-05,  1.39565942e-05, ...,\n",
       "          -1.37847114e-05, -1.37259714e-05, -8.71478423e-06],\n",
       "         [ 6.12658212e-06,  3.50488990e-06,  1.03763235e-06, ...,\n",
       "          -7.60646428e-06, -6.94082359e-06, -4.20357157e-06],\n",
       "         [ 2.94646713e-06,  1.78302526e-06,  6.49599447e-07, ...,\n",
       "           1.59763291e-06,  5.91129830e-07,  9.63274117e-08]]],\n",
       "       shape=(60, 3, 250)),\n",
       " '15.0': array([[[ 2.51044043e-17, -7.23322289e-07, -3.04533355e-07, ...,\n",
       "          -5.73289408e-06, -6.03438577e-06, -9.54862075e-06],\n",
       "         [ 4.08189429e-17,  1.48283851e-06,  3.45248611e-06, ...,\n",
       "          -3.55080784e-06, -3.96246998e-06, -4.21197555e-06],\n",
       "         [ 8.45182977e-18,  1.66221848e-06,  3.25226182e-06, ...,\n",
       "          -1.82325895e-06, -1.92098030e-06, -1.12038552e-06]],\n",
       " \n",
       "        [[-1.34841793e-05, -1.49556482e-05, -1.30199090e-05, ...,\n",
       "           2.89784989e-06,  5.94493346e-06,  8.64078191e-06],\n",
       "         [-4.19015652e-06, -3.88514181e-06, -3.40705551e-06, ...,\n",
       "           1.11183469e-06,  2.08677424e-06,  3.11551323e-06],\n",
       "         [-1.86422883e-07,  2.27209341e-07, -3.38436857e-10, ...,\n",
       "          -3.42778160e-06, -4.07924282e-06, -4.53596911e-06]],\n",
       " \n",
       "        [[ 8.66142369e-06,  5.07170829e-06, -6.42412245e-07, ...,\n",
       "          -7.20108390e-06, -2.10732763e-06,  3.22232117e-06],\n",
       "         [ 3.62181268e-06,  3.17114332e-06,  1.82019613e-06, ...,\n",
       "           9.08577032e-08,  1.53193884e-06,  2.62346366e-06],\n",
       "         [-4.18562552e-06, -2.67587904e-06, -2.28449506e-07, ...,\n",
       "           1.62924203e-06,  1.80735543e-06,  1.78669386e-06]],\n",
       " \n",
       "        ...,\n",
       " \n",
       "        [[-3.23684827e-06, -6.54934704e-06, -7.47521866e-06, ...,\n",
       "          -1.82185896e-05, -9.91184837e-06, -3.64027465e-06],\n",
       "         [ 6.06658079e-06,  2.70469692e-06,  1.22599200e-07, ...,\n",
       "          -2.33832683e-06, -6.33922083e-07,  5.65606308e-07],\n",
       "         [ 7.07966670e-06,  4.58261064e-06,  2.59979126e-06, ...,\n",
       "           4.12346517e-06,  7.02543078e-06,  7.73037642e-06]],\n",
       " \n",
       "        [[-1.55931711e-06, -2.82520446e-06, -4.64968092e-06, ...,\n",
       "          -4.03502657e-06, -2.36030168e-06, -1.96216249e-06],\n",
       "         [ 9.08861737e-07,  4.52787245e-07, -5.54846969e-07, ...,\n",
       "           1.05905079e-06,  2.52301788e-06,  4.53054249e-06],\n",
       "         [ 6.37527979e-06,  3.97731821e-06,  1.61664412e-06, ...,\n",
       "          -5.74692213e-07,  2.28355615e-07,  1.35969255e-06]],\n",
       " \n",
       "        [[-9.17269975e-07,  2.30149883e-06,  7.46268044e-06, ...,\n",
       "          -4.00654244e-05, -3.58906516e-05, -2.14100873e-05],\n",
       "         [ 6.78472567e-06,  8.77276291e-06,  9.88086793e-06, ...,\n",
       "          -1.22503761e-05, -1.13459372e-05, -6.84942079e-06],\n",
       "         [ 2.73972741e-06,  4.12811014e-06,  5.22935246e-06, ...,\n",
       "          -6.39750706e-06, -5.30347640e-06, -3.01361839e-06]]],\n",
       "       shape=(60, 3, 250)),\n",
       " '8.0': array([[[ 2.49309318e-17, -1.85956034e-05, -3.07901439e-05, ...,\n",
       "          -4.70890968e-06,  8.97772677e-06,  1.78553475e-05],\n",
       "         [ 1.49616687e-17, -3.86341827e-06, -6.76897040e-06, ...,\n",
       "           5.13643251e-06,  1.04914920e-05,  1.24303468e-05],\n",
       "         [ 1.71565437e-17, -2.51775639e-06, -4.32793584e-06, ...,\n",
       "           5.84075661e-06,  9.09353775e-06,  8.86887515e-06]],\n",
       " \n",
       "        [[ 2.09873880e-05,  2.03429613e-05,  1.89923975e-05, ...,\n",
       "           1.50346874e-05,  2.68440807e-05,  3.34623031e-05],\n",
       "         [ 1.10621068e-05,  7.75508172e-06,  4.30602581e-06, ...,\n",
       "           6.88475650e-06,  8.25603373e-06,  9.33831226e-06],\n",
       "         [ 6.34067624e-06,  3.41357522e-06,  1.66276409e-06, ...,\n",
       "           4.70794822e-06,  3.15043392e-06,  2.64347255e-06]],\n",
       " \n",
       "        [[ 3.52397973e-05,  3.45961989e-05,  3.38492894e-05, ...,\n",
       "           6.81601532e-06,  3.84789703e-06,  5.86242938e-08],\n",
       "         [ 1.02537496e-05,  1.10343643e-05,  1.14826494e-05, ...,\n",
       "          -7.38761581e-07, -1.42661112e-06, -2.17518429e-06],\n",
       "         [ 3.31883556e-06,  4.75042079e-06,  6.13752751e-06, ...,\n",
       "          -9.19855227e-07, -1.99944955e-06, -3.27720674e-06]],\n",
       " \n",
       "        ...,\n",
       " \n",
       "        [[-5.78608882e-06,  2.77283102e-07,  2.52638007e-06, ...,\n",
       "           6.79272863e-06,  1.65306540e-06, -6.00496486e-06],\n",
       "         [ 3.83579418e-06,  5.86804185e-06,  6.19157812e-06, ...,\n",
       "          -4.38782129e-06, -4.91554228e-06, -6.71106955e-06],\n",
       "         [ 6.57633520e-06,  8.71201918e-06,  9.16575968e-06, ...,\n",
       "          -7.41788339e-06, -5.20408942e-06, -4.49283658e-06]],\n",
       " \n",
       "        [[-1.37850199e-05, -1.90535962e-05, -2.04029999e-05, ...,\n",
       "           1.87667331e-05,  1.74200211e-05,  1.30352315e-05],\n",
       "         [-8.93997818e-06, -1.03330252e-05, -1.01231119e-05, ...,\n",
       "           1.30415197e-05,  9.00035660e-06,  1.26394460e-06],\n",
       "         [-5.25035681e-06, -6.47500649e-06, -7.08525850e-06, ...,\n",
       "           4.99359826e-06, -6.38846208e-07, -7.79148713e-06]],\n",
       " \n",
       "        [[ 6.90237468e-06,  1.52338696e-06, -7.47395860e-07, ...,\n",
       "           3.38239851e-05,  2.96868668e-05,  1.75196100e-05],\n",
       "         [-6.50893795e-06, -1.07477200e-05, -9.72035127e-06, ...,\n",
       "           8.71911129e-07, -1.83072467e-07, -3.74342541e-07],\n",
       "         [-1.32860631e-05, -1.46550907e-05, -1.13392749e-05, ...,\n",
       "          -8.50850531e-06, -8.84968338e-06, -5.62379711e-06]]],\n",
       "       shape=(60, 3, 250))}"
      ]
     },
     "execution_count": 71,
     "metadata": {},
     "output_type": "execute_result"
    }
   ],
   "execution_count": 71
  },
  {
   "metadata": {
    "ExecuteTime": {
     "end_time": "2025-05-01T20:36:38.102004Z",
     "start_time": "2025-05-01T20:36:38.081358Z"
    }
   },
   "cell_type": "code",
   "source": [
    "X = np.concatenate(list(data.values()), axis=0)\n",
    "y = np.concatenate([[label] * data[label].shape[0] for label in data.keys()])  # (samples,)\n",
    "X.shape, y.shape"
   ],
   "id": "71ea9fa143aa599b",
   "outputs": [
    {
     "data": {
      "text/plain": [
       "((180, 3, 250), (180,))"
      ]
     },
     "execution_count": 72,
     "metadata": {},
     "output_type": "execute_result"
    }
   ],
   "execution_count": 72
  },
  {
   "metadata": {
    "ExecuteTime": {
     "end_time": "2025-05-01T20:36:40.015351Z",
     "start_time": "2025-05-01T20:36:38.448528Z"
    }
   },
   "cell_type": "code",
   "source": [
    "import numpy as np\n",
    "from sklearn.metrics import accuracy_score\n",
    "\n",
    "classifier = SSVEP_CCA_Classifier(sampling_rate=250, frequencies=[11, 8, 15], num_targets=3, n_components=1)\n",
    "y_pred = classifier.predict(X)\n",
    "\n",
    "acc = accuracy_score(y, y_pred)\n",
    "print(f\"Classification Accuracy: {acc * 100:.2f}%\")"
   ],
   "id": "4afdf59495575416",
   "outputs": [
    {
     "name": "stdout",
     "output_type": "stream",
     "text": [
      "Classification Accuracy: 49.44%\n"
     ]
    }
   ],
   "execution_count": 73
  },
  {
   "metadata": {
    "ExecuteTime": {
     "end_time": "2025-05-01T20:35:57.084947Z",
     "start_time": "2025-05-01T20:35:56.968727Z"
    }
   },
   "cell_type": "code",
   "source": [
    "from sklearn.metrics import confusion_matrix, ConfusionMatrixDisplay\n",
    "\n",
    "# Compute the confusion matrix\n",
    "conf_matrix = confusion_matrix(y, y_pred)\n",
    "\n",
    "# Plot the confusion matrix\n",
    "disp = ConfusionMatrixDisplay(confusion_matrix=conf_matrix, display_labels=np.unique(y_pred))\n",
    "disp.plot(cmap=plt.cm.Blues)\n",
    "plt.title(\"Confusion Matrix (Validation Set)\")\n",
    "plt.show()"
   ],
   "id": "a3dbfbd91a44ef63",
   "outputs": [
    {
     "data": {
      "text/plain": [
       "<Figure size 640x480 with 2 Axes>"
      ],
      "image/png": "[encoded data removed]"
     },
     "metadata": {},
     "output_type": "display_data"
    }
   ],
   "execution_count": 70
  },
  {
   "metadata": {
    "ExecuteTime": {
     "end_time": "2025-05-01T20:35:57.098274Z",
     "start_time": "2025-05-01T20:35:57.093917Z"
    }
   },
   "cell_type": "code",
   "source": "",
   "id": "693f71f441f6432",
   "outputs": [],
   "execution_count": null
  }
 ],
 "metadata": {
  "kernelspec": {
   "display_name": "Python 3",
   "language": "python",
   "name": "python3"
  },
  "language_info": {
   "codemirror_mode": {
    "name": "ipython",
    "version": 2
   },
   "file_extension": ".py",
   "mimetype": "text/x-python",
   "name": "python",
   "nbconvert_exporter": "python",
   "pygments_lexer": "ipython2",
   "version": "2.7.6"
  }
 },
 "nbformat": 4,
 "nbformat_minor": 5
}
