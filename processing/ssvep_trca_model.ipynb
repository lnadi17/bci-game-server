{
 "cells": [
  {
   "cell_type": "code",
   "id": "initial_id",
   "metadata": {
    "collapsed": true,
    "ExecuteTime": {
     "end_time": "2025-04-28T16:29:00.319677Z",
     "start_time": "2025-04-28T16:29:00.307882Z"
    }
   },
   "source": [
    "import time\n",
    "\n",
    "import matplotlib.pyplot as plt\n",
    "import numpy as np\n",
    "from meegkit.trca import TRCA\n",
    "\n",
    "from preprocessing import BCIDataProcessor"
   ],
   "outputs": [],
   "execution_count": 44
  },
  {
   "metadata": {
    "ExecuteTime": {
     "end_time": "2025-04-28T16:29:00.795287Z",
     "start_time": "2025-04-28T16:29:00.323481Z"
    }
   },
   "cell_type": "code",
   "source": [
    "recording_path = '../recordings/recording_ssvep4_gel.raw.fif'\n",
    "window_size = 2\n",
    "window_overlap = 1\n",
    "processor = BCIDataProcessor(recording_path, l_freq=1, h_freq=30, window_size=window_size,\n",
    "                             window_overlap=window_overlap)\n",
    "data = processor.process()"
   ],
   "id": "c0959a74b17a28e7",
   "outputs": [],
   "execution_count": 45
  },
  {
   "metadata": {
    "ExecuteTime": {
     "end_time": "2025-04-28T16:29:00.808412Z",
     "start_time": "2025-04-28T16:29:00.805848Z"
    }
   },
   "cell_type": "code",
   "source": [
    "# Step 1: Gather all trials into a list\n",
    "all_trials = []\n",
    "all_labels = []\n",
    "\n",
    "# Map frequencies to label numbers\n",
    "freqs = sorted(map(float, data.keys()))  # sorted list of frequencies\n",
    "freq_to_label = {freq: idx for idx, freq in enumerate(freqs)}\n",
    "freqs"
   ],
   "id": "c3db7cf0043b79e1",
   "outputs": [
    {
     "data": {
      "text/plain": [
       "[11.0, 15.0, 19.0, 23.0]"
      ]
     },
     "execution_count": 46,
     "metadata": {},
     "output_type": "execute_result"
    }
   ],
   "execution_count": 46
  },
  {
   "metadata": {
    "ExecuteTime": {
     "end_time": "2025-04-28T16:29:00.821040Z",
     "start_time": "2025-04-28T16:29:00.818218Z"
    }
   },
   "cell_type": "code",
   "source": [
    "for freq_str, eeg_trials in data.items():\n",
    "    freq = float(freq_str)\n",
    "    label = freq_to_label[freq]  # integer label for this frequency\n",
    "\n",
    "    all_trials.append(eeg_trials)  # shape (n_trials, n_channels, n_samples)\n",
    "    print(eeg_trials.shape)\n",
    "    all_labels.extend([label] * eeg_trials.shape[0])"
   ],
   "id": "8bbc96dc5889d3cf",
   "outputs": [
    {
     "name": "stdout",
     "output_type": "stream",
     "text": [
      "(45, 8, 500)\n",
      "(45, 8, 500)\n",
      "(45, 8, 500)\n",
      "(45, 8, 500)\n"
     ]
    }
   ],
   "execution_count": 47
  },
  {
   "metadata": {
    "ExecuteTime": {
     "end_time": "2025-04-28T16:29:00.853092Z",
     "start_time": "2025-04-28T16:29:00.844026Z"
    }
   },
   "cell_type": "code",
   "source": [
    "# Step 2: Stack all trials\n",
    "# Now shape will be (total_trials, n_channels, n_samples)\n",
    "all_trials = np.vstack(all_trials)\n",
    "all_labels = np.array(all_labels)\n",
    "all_trials.shape, all_labels.shape"
   ],
   "id": "cd65631f4b0bc782",
   "outputs": [
    {
     "data": {
      "text/plain": [
       "((180, 8, 500), (180,))"
      ]
     },
     "execution_count": 48,
     "metadata": {},
     "output_type": "execute_result"
    }
   ],
   "execution_count": 48
  },
  {
   "metadata": {
    "ExecuteTime": {
     "end_time": "2025-04-28T16:29:00.868394Z",
     "start_time": "2025-04-28T16:29:00.864721Z"
    }
   },
   "cell_type": "code",
   "source": [
    "# Step 3: Rearrange axes to (samples, channels, trials)\n",
    "# First: (total_trials, channels, samples) -> (samples, channels, total_trials)\n",
    "all_trials = np.transpose(all_trials, (2, 1, 0))\n",
    "all_trials"
   ],
   "id": "b5efde88d8ab3f0",
   "outputs": [
    {
     "data": {
      "text/plain": [
       "array([[[ 4.23516474e-22, -1.15160006e-05,  2.44425932e-05, ...,\n",
       "          2.11758237e-22,  9.79149457e-06,  8.10801335e-07],\n",
       "        [-1.05879118e-21, -5.64413750e-06,  2.06075783e-05, ...,\n",
       "          2.11758237e-22,  8.50322175e-07,  1.09879995e-05],\n",
       "        [-2.54109884e-21, -6.03762629e-06,  2.47499349e-05, ...,\n",
       "          1.69406589e-21,  7.38710078e-06,  9.08058620e-06],\n",
       "        ...,\n",
       "        [-2.09111259e-21, -8.58088791e-06,  1.14578095e-05, ...,\n",
       "         -1.05879118e-22, -1.31396464e-05,  5.27189023e-06],\n",
       "        [-2.64697796e-21, -4.18917135e-06,  4.36616162e-06, ...,\n",
       "          4.23516474e-22, -1.15814300e-05,  1.24146740e-05],\n",
       "        [-4.23516474e-22, -1.91761906e-06,  1.43911137e-05, ...,\n",
       "         -1.05879118e-21, -7.06811469e-06,  1.06474957e-05]],\n",
       "\n",
       "       [[-1.31736784e-06, -9.55426607e-06,  2.22589393e-05, ...,\n",
       "         -1.45106227e-06,  9.17028523e-06,  9.47961745e-07],\n",
       "        [-6.83548649e-07, -4.41088762e-06,  2.00428682e-05, ...,\n",
       "          5.45949382e-07,  2.31430617e-06,  1.12306724e-05],\n",
       "        [-1.78224834e-06, -3.69834129e-06,  2.42370470e-05, ...,\n",
       "         -2.70632843e-07,  5.90461799e-06,  9.49683863e-06],\n",
       "        ...,\n",
       "        [ 1.26901453e-07, -4.85109661e-06,  9.44247552e-06, ...,\n",
       "          2.13247758e-06, -1.42702313e-05,  6.48290791e-06],\n",
       "        [-4.41863288e-07, -3.91603855e-06,  2.37023095e-06, ...,\n",
       "          1.72421064e-06, -1.25863083e-05,  1.33495360e-05],\n",
       "        [ 3.01019327e-07, -3.47806700e-07,  1.10788433e-05, ...,\n",
       "          1.23672893e-06, -7.15573588e-06,  1.14905383e-05]],\n",
       "\n",
       "       [[-3.26247648e-06, -8.55779787e-06,  1.71674727e-05, ...,\n",
       "         -2.86843558e-06,  7.13363772e-06,  2.87106274e-06],\n",
       "        [-1.66252223e-06, -3.13523301e-06,  1.71598037e-05, ...,\n",
       "          8.37763422e-07,  3.18882223e-06,  1.23431275e-05],\n",
       "        [-4.08213453e-06, -2.24521972e-06,  2.03582117e-05, ...,\n",
       "         -5.54920096e-07,  3.72608198e-06,  1.10693196e-05],\n",
       "        ...,\n",
       "        [ 2.06802010e-07,  7.35885019e-07,  6.21993616e-06, ...,\n",
       "          3.64516337e-06, -1.37631216e-05,  6.87961962e-06],\n",
       "        [-1.16462034e-06, -3.14433458e-06, -1.16551218e-06, ...,\n",
       "          3.14194600e-06, -1.19339775e-05,  1.28952788e-05],\n",
       "        [-5.53410719e-07,  1.30458054e-06,  5.69641645e-06, ...,\n",
       "          2.23709504e-06, -5.91308633e-06,  1.20386495e-05]],\n",
       "\n",
       "       ...,\n",
       "\n",
       "       [[ 1.78363657e-05, -1.15477297e-05,  1.34135260e-06, ...,\n",
       "          7.34852377e-06,  1.40597031e-05,  1.10497393e-06],\n",
       "        [ 8.71200206e-06, -4.85588359e-06,  4.99115388e-06, ...,\n",
       "          1.57206195e-05,  3.47130866e-06, -1.04010296e-05],\n",
       "        [ 1.15148694e-05, -7.79331801e-06,  3.13092108e-06, ...,\n",
       "          1.40995618e-05,  4.18348144e-06, -6.03586864e-06],\n",
       "        ...,\n",
       "        [ 5.57070827e-06, -1.13928569e-05,  2.60291858e-06, ...,\n",
       "          3.88038007e-06, -2.04358595e-06, -1.20187396e-05],\n",
       "        [ 1.25541023e-06, -1.03905706e-05,  4.45806343e-06, ...,\n",
       "          9.44020797e-06, -1.87843562e-06, -1.11115840e-05],\n",
       "        [ 8.74702130e-06, -7.71586447e-06,  2.83877643e-06, ...,\n",
       "          6.77386484e-06, -3.41833905e-06, -8.86775285e-06]],\n",
       "\n",
       "       [[ 2.11474638e-05, -1.12864641e-05,  3.33173377e-07, ...,\n",
       "          5.02523973e-06,  9.42073696e-06,  1.20436601e-06],\n",
       "        [ 1.41540806e-05, -4.37116370e-06,  2.74206267e-06, ...,\n",
       "          1.39266848e-05,  2.60895237e-06, -7.56714042e-06],\n",
       "        [ 1.70454191e-05, -7.13956665e-06,  1.70708028e-06, ...,\n",
       "          1.20443962e-05, -2.97782188e-07, -4.00324512e-06],\n",
       "        ...,\n",
       "        [ 9.06760031e-06, -1.17722518e-05,  2.66050933e-06, ...,\n",
       "          3.40532952e-06, -3.16168248e-06, -9.31963120e-06],\n",
       "        [ 3.07204719e-06, -1.07973167e-05,  4.28087271e-06, ...,\n",
       "          9.78554045e-06, -2.56918325e-06, -8.02955886e-06],\n",
       "        [ 1.24130647e-05, -4.23891357e-06,  3.40155775e-06, ...,\n",
       "          8.43816921e-06, -4.61994085e-06, -6.50456961e-06]],\n",
       "\n",
       "       [[ 2.37781601e-05, -8.17335019e-06, -6.23104841e-08, ...,\n",
       "          2.42935293e-06,  4.52134846e-06,  7.76210875e-07],\n",
       "        [ 1.84933884e-05, -2.25299861e-06,  1.12497136e-06, ...,\n",
       "          1.20085742e-05,  1.60600064e-06, -3.99910348e-06],\n",
       "        [ 2.19930760e-05, -4.54299330e-06,  6.76225956e-07, ...,\n",
       "          1.00619844e-05, -4.49240449e-06, -1.97130397e-06],\n",
       "        ...,\n",
       "        [ 1.13518757e-05, -1.03194714e-05,  1.66697368e-06, ...,\n",
       "          3.99003611e-06, -4.45231333e-06, -5.15537568e-06],\n",
       "        [ 4.44621963e-06, -9.92844089e-06,  2.60395637e-06, ...,\n",
       "          1.09377002e-05, -2.69221214e-06, -4.22524426e-06],\n",
       "        [ 1.47407639e-05, -4.92050843e-07,  2.31574346e-06, ...,\n",
       "          9.66089497e-06, -5.09913791e-06, -3.44241657e-06]]],\n",
       "      shape=(500, 8, 180))"
      ]
     },
     "execution_count": 49,
     "metadata": {},
     "output_type": "execute_result"
    }
   ],
   "execution_count": 49
  },
  {
   "metadata": {
    "ExecuteTime": {
     "end_time": "2025-04-28T16:29:00.882494Z",
     "start_time": "2025-04-28T16:29:00.879761Z"
    }
   },
   "cell_type": "code",
   "source": [
    "eeg = all_trials\n",
    "labels = all_labels\n",
    "eeg.shape, labels.shape"
   ],
   "id": "e0a2f0b0bd777783",
   "outputs": [
    {
     "data": {
      "text/plain": [
       "((500, 8, 180), (180,))"
      ]
     },
     "execution_count": 50,
     "metadata": {},
     "output_type": "execute_result"
    }
   ],
   "execution_count": 50
  },
  {
   "metadata": {
    "ExecuteTime": {
     "end_time": "2025-04-28T16:29:00.904143Z",
     "start_time": "2025-04-28T16:29:00.901660Z"
    }
   },
   "cell_type": "code",
   "source": [
    "t = time.time()\n",
    "\n",
    "sfreq = 250\n",
    "n_bands = 5  # number of sub-bands in filter bank analysis\n",
    "is_ensemble = True  # True = ensemble TRCA method; False = TRCA method\n",
    "alpha_ci = 0.05  # 100*(1-alpha_ci): confidence interval for accuracy\n",
    "\n",
    "n_targets = len(freqs)\n",
    "\n",
    "# Useful variables (no need to modify)\n",
    "ci = 100 * (1 - alpha_ci)  # confidence interval\n",
    "n_targets"
   ],
   "id": "8487fc6d53911b24",
   "outputs": [
    {
     "data": {
      "text/plain": [
       "4"
      ]
     },
     "execution_count": 51,
     "metadata": {},
     "output_type": "execute_result"
    }
   ],
   "execution_count": 51
  },
  {
   "metadata": {
    "ExecuteTime": {
     "end_time": "2025-04-28T16:31:08.474265Z",
     "start_time": "2025-04-28T16:31:08.394572Z"
    }
   },
   "cell_type": "code",
   "source": [
    "filterbank = [\n",
    "    [(10, 12), (8, 14)],\n",
    "    [(14, 16), (12, 18)],\n",
    "    [(18, 20), (16, 22)],\n",
    "    [(22, 24), (20, 26)],\n",
    "    # [(21, 23), (19, 25)],  # around 22 (2×11)\n",
    "    # [(29, 31), (27, 33)],  # around 30 (2×15)\n",
    "    # [(37, 39), (35, 41)],  # around 38 (2×19)\n",
    "    # [(45, 47), (43, 49)]   # around 46 (2×23)\n",
    "]\n",
    "\n",
    "f, ax = plt.subplots(1, figsize=(7, 4))\n",
    "for i, _band in enumerate(filterbank):\n",
    "    ax.axvspan(ymin=i / len(filterbank) + .02,\n",
    "               ymax=(i + 1) / len(filterbank) - .02,\n",
    "               xmin=filterbank[i][1][0], xmax=filterbank[i][1][1],\n",
    "               alpha=0.2, facecolor=f\"C{i}\")\n",
    "    ax.axvspan(ymin=i / len(filterbank) + .02,\n",
    "               ymax=(i + 1) / len(filterbank) - .02,\n",
    "               xmin=filterbank[i][0][0], xmax=filterbank[i][0][1],\n",
    "               alpha=0.5, label=f\"sub-band{i}\", facecolor=f\"C{i}\")\n",
    "\n",
    "for f in freqs:\n",
    "    colors = np.ones((9, 4))\n",
    "    colors[:, :3] = np.linspace(0, .5, 9)[:, None]\n",
    "    ax.scatter(f * np.arange(1, 10), [f] * 9, c=colors, s=8, zorder=100)\n",
    "\n",
    "ax.set_ylabel(\"Stimulus frequency (Hz)\")\n",
    "ax.set_xlabel(\"EEG response frequency (Hz)\")\n",
    "ax.set_xlim([0, 102])\n",
    "ax.set_xticks(np.arange(0, 100, 10))\n",
    "ax.grid(True, ls=\":\", axis=\"x\")\n",
    "ax.legend(bbox_to_anchor=(1.05, .5), fontsize=\"small\")\n",
    "plt.tight_layout()\n",
    "plt.show()"
   ],
   "id": "c1ec7b9f74885681",
   "outputs": [
    {
     "data": {
      "text/plain": [
       "<Figure size 700x400 with 1 Axes>"
      ],
      "image/png": "[encoded data removed]"
     },
     "metadata": {},
     "output_type": "display_data"
    }
   ],
   "execution_count": 56
  },
  {
   "metadata": {
    "ExecuteTime": {
     "end_time": "2025-04-28T16:31:12.933281Z",
     "start_time": "2025-04-28T16:31:10.947869Z"
    }
   },
   "cell_type": "code",
   "source": [
    "import numpy as np\n",
    "\n",
    "# Your EEG and label arrays prepared earlier\n",
    "# eeg: shape (samples, channels, trials)\n",
    "# labels: shape (trials,)\n",
    "\n",
    "trca = TRCA(sfreq, filterbank, is_ensemble)\n",
    "\n",
    "print(\"Results of the ensemble TRCA-based method without CV:\\n\")\n",
    "\n",
    "# Train TRCA on all available data\n",
    "trca.fit(eeg, labels)\n",
    "\n",
    "# Test on the same data (NOTE: this is NOT cross-validation)\n",
    "estimated = trca.predict(eeg)\n",
    "\n",
    "# Compute accuracy\n",
    "is_correct = estimated == labels\n",
    "accuracy = np.mean(is_correct) * 100\n",
    "\n",
    "print(f\"Accuracy = {accuracy:.1f}%\")\n",
    "\n",
    "# Confidence intervals (optional, but based on a single \"measurement\")\n",
    "# mu_acc, _, muci_acc, _ = normfit(np.array([accuracy]), alpha_ci)\n",
    "\n",
    "# print(f\"Mean accuracy = {mu_acc:.1f}% ({ci:.0f}% CI: {muci_acc[0]:.1f}-{muci_acc[1]:.1f}%)\")"
   ],
   "id": "6268664d316beb7",
   "outputs": [
    {
     "name": "stdout",
     "output_type": "stream",
     "text": [
      "Results of the ensemble TRCA-based method without CV:\n",
      "\n",
      "Accuracy = 42.8%\n"
     ]
    }
   ],
   "execution_count": 57
  }
 ],
 "metadata": {
  "kernelspec": {
   "display_name": "Python 3",
   "language": "python",
   "name": "python3"
  },
  "language_info": {
   "codemirror_mode": {
    "name": "ipython",
    "version": 2
   },
   "file_extension": ".py",
   "mimetype": "text/x-python",
   "name": "python",
   "nbconvert_exporter": "python",
   "pygments_lexer": "ipython2",
   "version": "2.7.6"
  }
 },
 "nbformat": 4,
 "nbformat_minor": 5
}
